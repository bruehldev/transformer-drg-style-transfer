{
 "cells": [
  {
   "cell_type": "markdown",
   "metadata": {},
   "source": [
    "## Prepare Referece files using Word2Vec for retrieving attributes\n"
   ]
  },
  {
   "cell_type": "code",
   "execution_count": 13,
   "metadata": {},
   "outputs": [],
   "source": [
    "import gensim.downloader as api\n",
    "import numpy as np\n",
    "\n",
    "wv = api.load(\"word2vec-google-news-300\")\n",
    "\n",
    "data_dir = \"/home/jack/Desktop/NN/clean/datasets/yelp\"\n",
    "output_dir = data_dir + \"/word2vec/\"\n",
    "\n",
    "def read_file(path):\n",
    "    with open(path) as fp:\n",
    "        lines = fp.read().splitlines()\n",
    "    return lines"
   ]
  },
  {
   "cell_type": "code",
   "execution_count": 2,
   "metadata": {},
   "outputs": [
    {
     "name": "stdout",
     "output_type": "stream",
     "text": [
      "[('queen', 0.7118193507194519), ('monarch', 0.6189674735069275), ('princess', 0.5902431011199951), ('crown_prince', 0.5499460697174072), ('prince', 0.5377322435379028)]\n"
     ]
    }
   ],
   "source": [
    "# test\n",
    "print(wv.most_similar(positive=[\"king\", \"woman\"], negative=[\"man\"], topn=5))"
   ]
  },
  {
   "cell_type": "code",
   "execution_count": 11,
   "metadata": {},
   "outputs": [
    {
     "name": "stdout",
     "output_type": "stream",
     "text": [
      "['excellent', 'superb', 'daily', 'really']\n",
      "['sadly', 'so', 'run', 'mill']\n",
      "False\n",
      "True\n"
     ]
    }
   ],
   "source": [
    "# Extract attr from train corpus\n",
    "\n",
    "import itertools\n",
    "\n",
    "data_dir = \"/home/jack/Desktop/NN/clean/datasets/yelp\"\n",
    "\n",
    "\n",
    "\n",
    "train0_processed = read_file(data_dir+\"/processed_files_with_bert_with_best_head/delete_retrieve_edit_model/sentiment_train_0_all_attrs.txt\") # training data with content and attributes seperation\n",
    "train1_processed = read_file(data_dir+\"/processed_files_with_bert_with_best_head/delete_retrieve_edit_model/sentiment_train_1_all_attrs.txt\") # training data with content and attributes seperation\n",
    "\n",
    "def get_train_attrs(text):\n",
    "    return text.split(\"<CON_START>\")[0].replace(\"<ATTR_WORDS>\",\"\").strip().split()\n",
    "\n",
    "# Fatch attributes from the training data\n",
    "attrs_neg = [get_train_attrs(x) for x in train0_processed]\n",
    "attrs_pos = [get_train_attrs(x) for x in train1_processed]\n",
    "\n",
    "print(list(itertools.chain(*attrs_pos))[:4])\n",
    "print(list(itertools.chain(*attrs_neg))[:4])\n",
    "\n",
    "print(\"laaaaaaaaaaaaaaaaa\" in wv.index_to_key)\n",
    "print(\"go\" in wv.index_to_key)\n",
    "\n",
    "filterd_list_1 = set(filter(lambda x: x in list(wv.index_to_key), list(itertools.chain(*attrs_pos))))\n",
    "filterd_list_0 = set(filter(lambda x: x in list(wv.index_to_key), list(itertools.chain(*attrs_neg))))\n",
    "\n",
    "with open(output_dir+\"filtered_pos_1.txt\", 'w') as outfile:\n",
    "    for word in filterd_list_1:\n",
    "            outfile.write(word +\"\\n\")\n",
    "\n",
    "with open(output_dir+\"filtered_neg_0.txt\", 'w') as outfile:\n",
    "    for word in filterd_list_0:\n",
    "            outfile.write(word +\"\\n\")"
   ]
  },
  {
   "cell_type": "code",
   "execution_count": 32,
   "metadata": {},
   "outputs": [
    {
     "name": "stdout",
     "output_type": "stream",
     "text": [
      "admit\n",
      "inaccurate\n"
     ]
    }
   ],
   "source": [
    "\n",
    "\n",
    "\n",
    "train_corpus_pos_path = data_dir + \"/word2vec/\" + \"filtered_pos_1.txt\"\n",
    "train_corpus_neg_path = data_dir + \"/word2vec/\" + \"filtered_neg_0.txt\"\n",
    "\n",
    "# Source https://gist.githubusercontent.com/kylemcdonald/9bedafead69145875b8c/raw/8236702165155cf1fa3e7aa38122380d3b95ac88/antonyms.txt\n",
    "train_corpus_pairs_path = data_dir + \"/word2vec/\" + \"antonyms.txt\"\n",
    "\n",
    "#train_corpus_pos = read_file(train_corpus_pos_path)\n",
    "#train_corpus_neg = read_file(train_corpus_neg_path)\n",
    "train_corpus_pairs = read_file(train_corpus_pairs_path)\n",
    "print(train_corpus_pairs[4].split(\",\")[0])\n",
    "print(train_corpus_pairs[3].split(\",\")[1])\n"
   ]
  },
  {
   "cell_type": "code",
   "execution_count": 49,
   "metadata": {},
   "outputs": [
    {
     "name": "stdout",
     "output_type": "stream",
     "text": [
      "['good', 'great', 'beautiful', 'positive']\n",
      "['bad', 'worse', 'awful', 'negative']\n"
     ]
    }
   ],
   "source": [
    "#positive_words = train_corpus_pos\n",
    "#negative_words = train_corpus_neg\n",
    "positive_words = []\n",
    "negative_words = []\n",
    "\n",
    "for pair in train_corpus_pairs:\n",
    "    positive_words.append(pair.split(\",\")[0])    \n",
    "    negative_words.append(pair.split(\",\")[1])    \n",
    "\n",
    "positive_words = [\"good\", \"great\", \"beautiful\", \"positive\", \"delicious\"]\n",
    "negative_words = [\"bad\", \"worse\", \"awful\", \"negative\", \"disgusting\"]\n",
    "\n",
    "v_positive = np.average(np.array(list(map(lambda x: wv[x], positive_words))), axis=0)\n",
    "\n",
    "v_negative = np.average(np.array(list(map(lambda x: wv[x], negative_words))), axis=0)\n",
    "\n",
    "print(positive_words[:4])\n",
    "print(negative_words[:4])"
   ]
  },
  {
   "cell_type": "code",
   "execution_count": 40,
   "metadata": {},
   "outputs": [],
   "source": [
    "from typing import List\n",
    "\n",
    "\n",
    "def retrieve_antonyms(attributes: List[str], to_positive: bool = True) -> List[str]:\n",
    "    transferred_attributes = list()\n",
    "    for attribute in attributes:\n",
    "        if to_positive:\n",
    "            v_query = wv[attribute] + v_positive - v_negative\n",
    "        else:\n",
    "            v_query = wv[attribute] - v_positive + v_negative\n",
    "        antonym = wv.most_similar(positive=[v_query], topn=1)\n",
    "        transferred_attributes.append(antonym[0][0])\n",
    "    return transferred_attributes"
   ]
  },
  {
   "cell_type": "code",
   "execution_count": 53,
   "metadata": {},
   "outputs": [
    {
     "name": "stdout",
     "output_type": "stream",
     "text": [
      "['positive']\n"
     ]
    }
   ],
   "source": [
    "# test ['positive', 'noisy', 'hungry']\n",
    "print(retrieve_antonyms([\"negative\"]))"
   ]
  },
  {
   "cell_type": "code",
   "execution_count": null,
   "metadata": {},
   "outputs": [],
   "source": [
    "def read_file(path):\n",
    "    with open(path) as fp:\n",
    "        lines = fp.read().splitlines()\n",
    "    return lines"
   ]
  },
  {
   "cell_type": "code",
   "execution_count": null,
   "metadata": {},
   "outputs": [],
   "source": [
    "def create_file(input_file, output_file, to_positive=True):\n",
    "    with open(output_file, \"w\") as out_fp:\n",
    "        input_lines = read_file(input_file)\n",
    "        for input_line in input_lines:\n",
    "            # each input line looks like this:\n",
    "            # [ATTRS]delicious<CONT_START>I never tasted such <REPLACE> soup.<END>\n",
    "            splits = input_line.split(\"<CONT_START>\")\n",
    "            attributes = splits[0].remove(\"[ATTRS]\")\n",
    "            antonyms = retrieve_antonyms(attributes, to_positive)\n",
    "            output_line = \"[ATTRS]\" + \" \".join(antonyms) + splits[1]\n",
    "            out_fp.write(output_line)"
   ]
  },
  {
   "cell_type": "code",
   "execution_count": null,
   "metadata": {},
   "outputs": [],
   "source": [
    "data_dir = \"/home/jack/Desktop/NN/clean/datasets/yelp\"\n",
    "\n",
    "reference_0 = data_dir + \"/processed_files_with_bert_with_best_head/reference_0.txt\"\n",
    "reference_1 = data_dir + \"/processed_files_with_bert_with_best_head/reference_1.txt\"\n",
    "out_reference_0 = data_dir + \"/processed_files_with_bert_with_best_head/word2vec/reference_0.txt\"\n",
    "out_reference_1 = data_dir + \"/processed_files_with_bert_with_best_head/word2vec/reference_1.txt\"\n",
    "\n",
    "create_file(reference_0, out_reference_0, True)\n",
    "create_file(reference_1, out_reference_1, False)"
   ]
  },
  {
   "cell_type": "code",
   "execution_count": 54,
   "metadata": {},
   "outputs": [],
   "source": [
    "def read_file(path):\n",
    "    with open(path) as fp:\n",
    "        lines = fp.read().splitlines()\n",
    "    return lines\n",
    "\n",
    "def get_attrs(text):\n",
    "    return text.split(\"<CON_START>\")[0].replace(\"<ATTR_WORDS>\",\"\").strip().split()"
   ]
  },
  {
   "cell_type": "code",
   "execution_count": 58,
   "metadata": {},
   "outputs": [
    {
     "name": "stdout",
     "output_type": "stream",
     "text": [
      "['definitely', 'venue']\n",
      "[[['worse'], ['worse']], [['definitely'], ['venue']], [['tasted'], ['watered']], [['said'], ['disappeared']], [['ca'], ['pharmacy']], [['left'], ['took']], [['great'], ['very']], [['definitely'], ['disappointed']], [['owner'], ['heard']], [['sucks'], ['too']]]\n",
      "[[['small'], ['make']], [['enjoying'], ['terrible']], [['affordable'], ['bad']], [['sandwich'], ['loved']], [['signed'], ['got']], [['definitely'], ['recommend']], [['highly'], ['recommend']], [['otherwise'], ['terrible']], [['bad'], ['bad']], [['oh'], ['geek']]]\n"
     ]
    }
   ],
   "source": [
    "''' Load Atts '''\n",
    "data_dir = \"/home/jack/Desktop/NN/clean/datasets/yelp\"\n",
    "\n",
    "ref0_own_Att = read_file(data_dir+\"/processed_files_with_bert_with_best_head/delete_retrieve_edit_model/reference_0.txt\") # Reference data for delete_generate model\n",
    "ref1_own_Att = read_file(data_dir+\"/processed_files_with_bert_with_best_head/delete_retrieve_edit_model/reference_1.txt\") # Reference data for delete_generate model\n",
    "\n",
    "ref_out_path = data_dir + \"/processed_files_with_bert_with_best_head/delete_retrieve_edit_model/\"\n",
    "\n",
    "print(get_attrs(ref0_own_Att[1]))\n",
    "\n",
    "ref0_att_antonyms = []\n",
    "ref1_att_antonyms = []\n",
    "\n",
    "for atts in ref0_own_Att:\n",
    "    att_antonyms = []\n",
    "    for word in get_attrs(atts):\n",
    "        antonym = None\n",
    "        if word in list(wv.index_to_key):\n",
    "            antonym = retrieve_antonyms([word], True)\n",
    "        if antonym != None:\n",
    "            att_antonyms.append(antonym)\n",
    "    ref0_att_antonyms.append(att_antonyms)\n",
    "\n",
    "for atts in ref1_own_Att:\n",
    "    att_antonyms = []\n",
    "    for word in get_attrs(atts):\n",
    "        antonym = None\n",
    "        if word in list(wv.index_to_key):\n",
    "            antonym = retrieve_antonyms([word], False)\n",
    "        if antonym != None:\n",
    "            att_antonyms.append(antonym)\n",
    "    ref1_att_antonyms.append(att_antonyms)\n",
    "\n",
    "\n",
    "print(ref0_att_antonyms[:10])\n",
    "print(ref1_att_antonyms[:10])"
   ]
  },
  {
   "cell_type": "code",
   "execution_count": 59,
   "metadata": {},
   "outputs": [
    {
     "ename": "TypeError",
     "evalue": "sequence item 0: expected str instance, list found",
     "output_type": "error",
     "traceback": [
      "\u001b[0;31m---------------------------------------------------------------------------\u001b[0m",
      "\u001b[0;31mTypeError\u001b[0m                                 Traceback (most recent call last)",
      "\u001b[1;32m/home/jack/Desktop/NN/clean/transformer-drg-style-transfer/word2vec_retrieve.ipynb Cell 14'\u001b[0m in \u001b[0;36m<cell line: 1>\u001b[0;34m()\u001b[0m\n\u001b[1;32m      <a href='vscode-notebook-cell:/home/jack/Desktop/NN/clean/transformer-drg-style-transfer/word2vec_retrieve.ipynb#ch0000011?line=1'>2</a>\u001b[0m \u001b[39mfor\u001b[39;00m index,words \u001b[39min\u001b[39;00m \u001b[39menumerate\u001b[39m(ref0_att_antonyms):\n\u001b[1;32m      <a href='vscode-notebook-cell:/home/jack/Desktop/NN/clean/transformer-drg-style-transfer/word2vec_retrieve.ipynb#ch0000011?line=2'>3</a>\u001b[0m     \u001b[39mif\u001b[39;00m \u001b[39mlen\u001b[39m(words) \u001b[39m>\u001b[39m \u001b[39m0\u001b[39m:\n\u001b[0;32m----> <a href='vscode-notebook-cell:/home/jack/Desktop/NN/clean/transformer-drg-style-transfer/word2vec_retrieve.ipynb#ch0000011?line=3'>4</a>\u001b[0m         outfile\u001b[39m.\u001b[39mwrite(\u001b[39m\"\u001b[39m\u001b[39m<ATTR_WORDS> \u001b[39m\u001b[39m\"\u001b[39m\u001b[39m+\u001b[39m \u001b[39m\"\u001b[39;49m\u001b[39m \u001b[39;49m\u001b[39m\"\u001b[39;49m\u001b[39m.\u001b[39;49mjoin(words)\u001b[39m+\u001b[39m \u001b[39m\"\u001b[39m\u001b[39m <CON_START>\u001b[39m\u001b[39m\"\u001b[39m \u001b[39m+\u001b[39mref0_own_Att[index]\u001b[39m.\u001b[39msplit(\u001b[39m\"\u001b[39m\u001b[39m<CON_START>\u001b[39m\u001b[39m\"\u001b[39m)[\u001b[39m1\u001b[39m] \u001b[39m+\u001b[39m\u001b[39m\"\u001b[39m\u001b[39m\\n\u001b[39;00m\u001b[39m\"\u001b[39m)\n\u001b[1;32m      <a href='vscode-notebook-cell:/home/jack/Desktop/NN/clean/transformer-drg-style-transfer/word2vec_retrieve.ipynb#ch0000011?line=4'>5</a>\u001b[0m     \u001b[39melse\u001b[39;00m: \n\u001b[1;32m      <a href='vscode-notebook-cell:/home/jack/Desktop/NN/clean/transformer-drg-style-transfer/word2vec_retrieve.ipynb#ch0000011?line=5'>6</a>\u001b[0m         outfile\u001b[39m.\u001b[39mwrite(\u001b[39m\"\u001b[39m\u001b[39m<ATTR_WORDS> \u001b[39m\u001b[39m\"\u001b[39m\u001b[39m+\u001b[39m \u001b[39m\"\u001b[39m\u001b[39m<CON_START>\u001b[39m\u001b[39m\"\u001b[39m \u001b[39m+\u001b[39mref0_own_Att[index]\u001b[39m.\u001b[39msplit(\u001b[39m\"\u001b[39m\u001b[39m<CON_START>\u001b[39m\u001b[39m\"\u001b[39m)[\u001b[39m1\u001b[39m] \u001b[39m+\u001b[39m\u001b[39m\"\u001b[39m\u001b[39m\\n\u001b[39;00m\u001b[39m\"\u001b[39m)\n",
      "\u001b[0;31mTypeError\u001b[0m: sequence item 0: expected str instance, list found"
     ]
    }
   ],
   "source": [
    "with open(ref_out_path+\"reference_word2vec_0.txt\", 'w') as outfile:\n",
    "    for index,words in enumerate(ref0_att_antonyms):\n",
    "        if len(words) > 0:\n",
    "            outfile.write(\"<ATTR_WORDS> \"+ \" \".join([w[0] for w in words])+ \" <CON_START>\" +ref0_own_Att[index].split(\"<CON_START>\")[1] +\"\\n\")\n",
    "        else: \n",
    "            outfile.write(\"<ATTR_WORDS> \"+ \"<CON_START>\" +ref0_own_Att[index].split(\"<CON_START>\")[1] +\"\\n\")\n",
    "\n",
    "\n",
    "with open(ref_out_path+\"reference_word2vec_1.txt\", 'w') as outfile:\n",
    "    for index,words in enumerate(ref1_att_antonyms):\n",
    "        if len(words) > 0:\n",
    "            outfile.write(\"<ATTR_WORDS> \"+ \" \".join([w[0] for w in words])+ \" <CON_START>\" +ref1_own_Att[index].split(\"<CON_START>\")[1] +\"\\n\")\n",
    "        else: \n",
    "            outfile.write(\"<ATTR_WORDS> \" +\"<CON_START>\" +ref1_own_Att[index].split(\"<CON_START>\")[1] +\"\\n\")\n",
    "        "
   ]
  },
  {
   "cell_type": "code",
   "execution_count": 60,
   "metadata": {},
   "outputs": [
    {
     "name": "stdout",
     "output_type": "stream",
     "text": [
      "[[['worse'], ['worse']], [['definitely'], ['venue']], [['tasted'], ['watered']], [['said'], ['disappeared']], [['ca'], ['pharmacy']], [['left'], ['took']], [['great'], ['very']], [['definitely'], ['disappointed']], [['owner'], ['heard']], [['sucks'], ['too']], [['sit'], ['slow']], [['charge'], ['small']], [['no'], ['sorry']], [['said'], ['sit']], [['empty'], ['no']], [['ok'], ['bland']], [['average'], ['food']], [['staffed'], ['primarily']], [['cooked'], ['crunchy']], [['blue'], ['cheese']], [['pad'], ['tasted']], [['said']], [['store'], ['needs']], [['bread']], [['complained'], ['polite']], [['happy']], [['shape'], ['dry']], [['associates'], ['program']], [['lacking']], [['anyway'], ['got']], [['sales'], ['great']], [['not'], ['good']], [['so'], ['card']], [['just'], ['delivery']], [[\"n't\"], ['let']], [['me'], ['lied']], [['beans'], ['burro']], [['tried'], ['advantage']], [[\"'ve\"], ['sent']], [['rude'], ['shitty']], [['really'], ['need']], [['skipped'], ['went']], [['cold']], [['yes']], [['wo'], ['better']], [['hot'], ['received']], [['very'], ['sick']], [['left'], ['hungry']], [['just'], ['car']], [['meal'], ['said']], [['food'], ['ok']], [['first'], ['wedding']], [['proceeded'], ['fix']], [['practice'], ['horrible']], [['guess'], ['happy']], [['saving'], ['black']], [['lost'], ['customer']], [['food'], ['gross']], [['curious'], ['product']], [['far']], [['groupon'], ['windows']], [['safeway'], ['lost']], [['good'], ['would']], [['using'], ['location']], [['horrible']], [[\"'ll\"], ['zero']], [['do'], ['go']], [['may'], ['stock']], [['owner'], ['rude']], [['great']], [['stopped'], ['soda']], [['dish'], ['could']], [['looks'], ['blended']], [['what'], ['wasted']], [['happy'], ['hours']], [['nice'], ['good']], [['executive'], ['walk']], [['spot'], ['favorite']], [['not'], ['real']], [['visitor'], ['limited']], [['disappointed'], ['actually']], [['dessert']], [['disgusted'], ['could']], [['ok'], ['nothing']], [['miserable']], [['did'], ['apologize']], [['service'], ['slow']], [['zero'], ['complaints']], [['bland'], ['cold']], [['too'], ['hot']], [['sent'], ['walk']], [['wo'], ['though']], [['love']], [['however'], ['amazing']], [['needless'], ['mexican']], [['wo'], ['ordering']], [['let'], ['opinion']], [['did'], ['apologize']], [['just'], ['plain']], [['place'], ['expectation']], [['smelled'], ['tasted']], [['knows'], ['might']], [['beer'], ['lackluster']], [['looks'], ['abandoned']], [[\"'ve\"], ['tried']], [[\"'ve\"], ['never']], [['no'], ['not']], [['zero'], ['stars']], [['hungry'], ['pissed']], [['no'], ['no']], [['give'], ['star']], [['lacking'], ['filling']], [['less'], ['stars']], [['could'], ['would']], [['think'], ['dump']], [['corn']], [['very'], ['dirty']], [['drunk'], ['could']], [['as'], ['been']], [['got'], ['seated']], [['no'], ['no']], [['location'], ['great']], [['so'], ['do']], [['badly'], ['consistency']], [['stuck']], [['service'], ['slow']], [['did'], ['full']], [['food'], ['very']], [['hate'], ['delivery']], [['just'], ['went']], [['expected'], ['staple']], [['message'], ['never']], [['food'], ['worse']], [['real'], ['hard']], [['comes'], ['pounds']], [['wanted'], ['became']], [['did'], ['can']], [['cleaning'], ['priced']], [['make'], ['good']], [['very'], ['disappointed']], [['just'], ['cooked']], [['so'], ['sad']], [['worst'], ['neighborhood']], [['management'], ['horrible']], [['just'], ['ordering']], [['lost'], ['good']], [['evening'], ['slow']], [['replied']], [['horrible']], [['meanwhile']], [['oh'], ['should']], [['found'], ['dead']], [['ok']], [['truly'], ['disappointed']], [['reason'], ['never']], [['no'], ['sausage']], [['manager'], ['rude']], [['failed'], ['apologize']], [['nope'], ['worse']], [['no'], ['no']], [['did'], ['answer']], [['fried'], ['gross']], [['south'], ['facing']], [['dude'], ['did']], [['lost'], ['good']], [['odd'], ['asked']], [['food'], ['too']], [['food'], ['cold']], [['busy'], ['no']], [['bathroom'], ['nothing']], [['room'], ['found']], [['food'], [\"n't\"]], [['brought'], ['business']], [['exhibit'], ['c']], [['disappointing'], ['favorite']], [['shows'], ['saturday']], [['sauce'], ['too']], [['just'], ['wrong']], [['visit'], ['salon']], [['received'], ['star']], [['go'], ['back']], [['person'], ['spoke']], [['food'], ['edible']], [['as'], ['never']], [['however'], ['tech']], [['bay'], ['disappointment']], [['ordered'], ['chicken']], [['ordered'], ['garlic']], [['does'], ['cook']], [['great']], [['man'], ['not']], [['um']], [['tasted'], ['really']], [['quite'], ['expensive']], [['alright'], ['maybe']], [['lastly'], ['brownie']], [['shows'], ['restaurant']], [['broken'], ['thing']], [[\"'ve\"], ['long']], [['looked'], ['half']], [['arrived'], ['no']], [['gave'], ['minutes']], [['cream'], ['mill']], [['wendy'], ['know']], [['soon'], ['delivered']], [['restaurant'], ['average']], [['sure'], ['cooked']], [['great'], ['can']], [['did'], ['fountain']], [['stink'], ['slimy']], [['stay'], ['go']], [['stood'], ['shock']], [[\"'ve\"], ['eaten']], [['always'], ['takes']], [['however'], ['paid']], [['ordering'], ['benedict']], [['enjoy'], ['place']], [['employees'], ['apologized']], [['reason'], ['can']], [['zero']], [['long'], ['did']], [['let'], ['story']], [['shopped'], ['here']], [['absolute'], ['worse']], [['questionable']], [['dry'], ['good']], [['can'], ['bloody']], [['irritating']], [['pissed'], ['me']], [['do'], ['sign']], [['do'], ['waste']], [['returned'], ['cold']], [['mess']], [['mean']], [['good'], ['nothing']], [['recommend'], ['buying']], [['went'], ['sit']], [['not'], ['clean']], [['tried'], ['call']], [['charged'], ['me']], [['looks']], [['not'], ['call']], [['travel'], ['stay']], [['would'], ['food']], [['bland'], ['boring']], [['not'], ['ball']], [['am'], ['good']], [['tow'], ['issue']], [['difficult'], ['actually']], [['great'], ['employees']], [[\"'ll\"], ['looking']], [['can'], ['pay']], [['said'], ['eggs']], [['food']], [['worst'], ['food']], [['no'], ['stars']], [['should'], ['sent']], [['looks'], ['dirty']], [['willing']], [['place'], ['old']], [['promise'], ['deliver']], [['why'], ['expecting']], [['nothing'], ['special']], [['failed']], [['management'], ['cares']], [['capacity']], [['mein'], ['weird']], [['found'], ['place']], [['not'], ['do']], [['hours'], ['life']], [['dropped'], ['off']], [['disappointed'], ['place']], [['pace'], ['good']], [['not'], ['good']], [['dip']], [['did'], ['offer']], [['hell']], [['front'], ['not']], [['recommend'], ['place']], [['sweet']], [['crisp'], ['tiny']], [['said'], ['certificate']], [['liar'], ['liar']], [['no']], [['should'], ['stuck']], [['great'], ['food']], [['old'], ['hotel']], [['pizza'], ['lacking']], [['mechanics'], ['amateur']], [['place'], ['shit']], [['place']], [['however'], ['turned']], [['went'], ['adjustment']], [['service'], ['disappointing']], [['recommend'], ['starbucks']], [['free'], ['dessert']], [['management'], ['does']], [['horrible'], ['sadly']], [['not'], ['brown']], [['did'], ['response']], [['contacted'], ['store']], [['alterations'], ['rudely']], [['ordered'], ['blackened']], [['not'], ['terribly']], [['did'], ['me']], [['emailed'], ['let']], [['suppose'], ['bland']], [['did'], ['finished']], [['not'], ['coming']], [['could'], ['pressure']], [['absolutely'], ['great']], [['ate'], ['kicked']], [['water'], ['horrible']], [['simply'], ['not']], [['sounds'], ['good']], [['disgusting']], [['yes'], ['portions']], [['fried'], ['hard']], [['received'], ['customer']], [['prices'], ['competitive']], [['too'], ['good']], [[\"'ll\"], ['holding']], [['management'], ['does']], [['no'], ['restaurants']], [['charge'], ['purchase']], [['craving'], ['noodles']], [['quality'], ['pretty']], [['woman'], ['should']], [['average'], ['could']], [['walk'], ['up']], [['cold'], ['quite']], [['maybe'], ['good']], [['dirty'], ['stinks']], [['received'], ['hot']], [['went'], ['trash']], [['embarrassing'], ['involved']], [['so'], ['ordered']], [['hopefully'], ['do']], [['beer'], ['food']], [['came'], ['good']], [['false'], ['advertising']], [['food'], ['good']], [['crab'], ['salt']], [['ruins'], ['me']], [['just'], ['manager']], [['disappointed'], ['place']], [], [['unfortunately'], ['guides']], [['geez'], ['need']], [['does'], ['just']], [['ordered'], ['short']], [['nowhere'], ['found']], [['tasted'], ['consistency']], [['did'], ['good']], [['acknowledged'], ['went']], [['save'], ['money']], [['what'], ['waste']], [['dog'], ['wife']], [['fault'], ['not']], [[\"n't\"], ['buying']], [['worst'], ['customer']], [['sad'], ['shop']], [['reason'], ['wo']], [['worse'], ['worse']], [['failed'], ['bar']], [['low'], ['rating']], [['did'], ['eat']], [['first'], ['cried']], [['no'], ['personality']], [[\"n't\"], ['coworker']], [['did'], ['ra']], [['right'], ['not']], [['went'], ['sunday']], [[\"'ve\"], ['messed']], [['game'], ['room']], [['told'], ['good']], [['however'], ['manager']], [['good'], ['good']], [['manager'], ['horrible']], [['so'], ['not']], [['told'], ['forget']], [['bartender'], ['hole']], [['absolutely'], ['ridiculous']], [['great'], ['good']], [['oh']], [['money']], [['purchase'], ['bag']], [['uneven'], ['falling']], [['did'], ['anything']], [], [['not'], ['thin']], [['gave'], ['me']], [['not'], ['fan']], [['cold'], ['bland']], [['can'], ['people']], [['not'], ['decent']], [['basil'], ['spicy']], [['no'], ['pathetic']], [['live'], ['here']], [['wait'], ['month']], [['great'], ['horrible']], [['last'], ['visiting']], [['dish'], ['sauce']], [['go'], ['interested']], [['rib'], ['fatty']], [['tonight'], ['lost']], [['safe'], ['going']], [['bar'], ['skip']], [['let'], ['place']], [['actual'], ['pub']], [['birthday'], ['ruined']], [['included'], ['credit']], [['item'], ['able']], [['really'], ['do']], [['authentic']], [['actually'], ['just']], [['worst']], [['place'], ['downhill']], [['not'], ['days']], [['did'], [\"n't\"]], [['worst'], ['location']], [['door'], ['would']], [['very'], ['rushed']], [['hallway'], ['loud']], [['then'], ['rude']], [['may'], ['just']], [['overpriced'], ['serve']], [['great']], [['coke'], ['lacking']], [['sadly'], ['able']], [['looked'], ['chicken']], [['still'], ['customers']], [['said'], ['disgusting']], [['found'], ['no']], [['burnt'], ['noodles']], [['avoid'], ['possible']], [['do'], ['screwed']], [['wait'], ['said']], [['too'], ['expensive']], [['could'], ['not']], [['went'], ['drop']], [['went'], ['extremely']], [['manager'], ['fire']], [['brew'], ['outstanding']], [['food'], ['low']], [['nice']], [['works'], ['horrible']], [['kfc'], ['stole']], [['better'], ['places']], [['older'], ['huge']], [['awful']], [['um'], ['does']], [['pathetic'], ['worst']], [['needless'], ['returning']], [['firstly'], ['fees']], [['say'], ['ask']], [['far'], ['real']], [['unfortunately'], ['rude']], [['built'], ['sink']], [['good'], ['ruined']], [['washed'], ['washed']], [['just'], ['empty']], [['incredible'], ['low']], [['green'], ['ok']], [['problem']], [['tried'], ['avail']], [['university'], ['good']], [['horrible'], ['nails']], [['refused'], ['pictures']], [['perhaps'], ['bread']], [['simply'], ['superior']], [['took'], ['fitted']], [['delivery']], [['person'], ['meal']], [['place'], ['small']], [['rush'], ['rush']], [['desert'], ['followed']], [['no'], ['massage']], [['called']], [['however'], ['experience']], [[\"'re\"], ['fight']], [['only'], ['scorpions']], [['pissed'], ['so']], [['did'], [\"n't\"]], [['rated'], ['lower']], [['not'], ['warm']], [['so'], ['eat']], [['size'], ['dance']], [['location'], ['super']], [['guess'], ['starbucks']], [['cheese'], ['string']], [['no'], ['high']], [['women'], ['met']], [['ra'], ['blah']], [['head'], ['processed']], [['old'], ['did']], [['like']], [['no']], [['picked'], ['order']], [['do'], ['stock']]]\n",
      "[[['small'], ['make']], [['enjoying'], ['terrible']], [['affordable'], ['bad']], [['sandwich'], ['loved']], [['signed'], ['got']], [['definitely'], ['recommend']], [['highly'], ['recommend']], [['otherwise'], ['terrible']], [['bad'], ['bad']], [['oh'], ['geek']], [['comfortable'], ['welcome']], [['terrible'], ['terrible']], [['fresh'], ['delicious']], [['bad']], [['actually'], ['can']], [['kind'], ['reasonably']], [['god'], ['love']], [['friendly'], ['delicious']], [[\"'ll\"], ['why']], [['helpful'], ['kind']], [['variety'], ['makes']], [['been'], ['negative']], [['professional'], ['found']], [['club'], ['best']], [['excellent'], ['knowledgeable']], [['generous'], ['fantastically']], [['fresh'], ['delicious']], [['professionals']], [['important'], ['thing']], [['impressed']], [['bad'], ['impressed']], [['simple'], ['healthy']], [['spot'], ['delicious']], [['love'], ['terrible']], [['perfect'], ['spot']], [['terrible'], ['nice']], [['fun'], ['treats']], [['front'], ['cheaper']], [['still'], ['comes']], [['love'], ['location']], [['best'], ['ranch']], [['happy'], ['definitely']], [['seems'], ['pretty']], [['amazing'], ['job']], [['enjoyed'], ['beautiful']], [['fantastic'], ['selection']], [['definitely'], ['place']], [['terrible'], ['grab']], [['very'], ['bad']], [['clean'], ['neat']], [['special'], ['perfect']], [['definitely']], [['delicious']], [['nice'], ['expert']], [['reasonably'], ['terrible']], [['delicious']], [['first'], ['knew']], [['certainly'], ['bad']], [['place'], ['making']], [['decent'], ['patronage']], [['helped'], ['friendly']], [['best'], ['enjoyed']], [['went'], ['eight']], [['always'], ['wonderful']], [['thanks'], ['special']], [['huge'], ['delicious']], [['big'], ['fairly']], [['attractive'], ['friendly']], [['food'], ['terrible']], [['uses'], ['looks']], [['consistent'], ['friendly']], [['fun'], ['terrific']], [['absolutely'], ['fantastic']], [['fun'], ['sit']], [['soup'], ['absolutely']], [['best'], ['food']], [['professional'], ['thorough']], [['special'], ['terrible']], [['business'], ['negative']], [['awesome'], ['right']], [['sit'], ['best']], [['delicious']], [['alfredo'], ['absolutely']], [['dropped'], ['rental']], [['adds'], ['touch']], [['high'], ['worth']], [['message'], ['awesome']], [['here'], ['family']], [['owner'], ['replied']], [['delicious'], ['perfectly']], [['gave'], ['new']], [['truly'], ['knows']], [['crab'], ['rule']], [['gotten'], ['dresses']], [['around'], ['terrible']], [['chocolate'], ['cake']], [['beautiful'], ['friend']], [['nice'], ['retail']], [['loved'], ['day']], [[\"'re\"], ['young']], [['love'], ['star']], [['love'], ['fresh']], [['definitely'], ['must']], [['terrible'], ['job']], [['tires'], ['brakes']], [['bad']], [['cute'], ['friendly']], [['love'], ['tea']], [['perfectly'], ['complemented']], [['beautiful'], ['terrible']], [['pleased'], ['quality']], [['favorite'], ['places']], [['super']], [['spacious'], ['modest']], [['go'], ['neighborhood']], [['very'], ['bad']], [['fun'], ['sit']], [['worth']], [['oh'], ['love']], [['full'], ['terrible']], [['loved'], ['ranch']], [['terrible'], ['bad']], [['got'], ['delicious']], [['amazing'], ['friendly']], [['inexpensive'], ['make']], [['fluffy'], ['bad']], [['affordable'], ['reasonable']], [['honest'], ['reasonable']], [['made'], ['feel']], [['simple'], ['cut']], [['extra'], ['star']], [['sweet'], ['happiness']], [['favorite'], ['eat']], [['always'], ['bad']], [['bad'], ['went']], [['service'], ['terrible']], [['love']], [['friendly']], [['nothing'], ['happy']], [['enjoyed']], [['terrible'], ['skin']], [['rare'], ['gem']], [['pretty'], ['bad']], [[\"'ve\"], ['ordered']], [['authentic'], ['thai']], [['terrible'], ['wonderful']], [['love'], ['nice']], [['go'], ['love']], [['loved'], ['chicken']], [['terrific']], [['pleasantly'], ['surprised']], [['reccomend'], ['spicy']], [['local'], ['terrible']], [['reminds'], ['home']], [['regular'], ['spots']], [['definitely'], ['go']], [['stopped'], ['nice']], [['love'], ['comic']], [['delight']], [['just'], ['cute']], [['love'], ['happy']], [['atmosphere'], ['fun']], [['enjoyed'], ['food']], [['terrible'], ['terrible']], [['fresh']], [['money'], ['enjoy']], [['food'], ['excellent']], [['terrible'], ['customer']], [['rick'], ['cool']], [['happy'], ['fantastic']], [['rare'], ['find']], [['bad'], ['solid']], [['nice'], ['bad']], [[\"'ll\"], ['certainly']], [['amazing']], [['food'], ['bad']], [['thank'], ['amanda']], [['love']], [['welcome'], ['comfortable']], [['bad'], ['rather']], [['recommend'], ['dentistry']], [['upgrade'], ['mothers']], [['best'], ['store']], [['incredibly'], ['nice']], [['bring'], ['vehicles']], [['salsa'], ['fantastic']], [['terrible'], ['delicious']], [['here'], ['best']], [['excellent'], ['selection']], [['terrible'], ['greasy']], [['terrible'], ['selection']], [['bad'], ['quality']], [['nice'], ['professional']], [['sampler']], [['super'], ['cool']], [['cleaned'], ['perfect']], [['incredibly'], ['delicious']], [['definitely'], ['worth']], [['consistently'], ['amazing']], [['nothing'], ['excellent']], [['terrible'], ['service']], [['get'], ['sweet']], [['always'], ['terrible']], [['far'], ['favorite']], [['super'], ['friendly']], [['terrible'], ['continued']], [['thank'], ['awesome']], [['awesome'], ['fast']], [['terrible'], ['museum']], [['nice'], ['go']], [['okay'], ['prices']], [['best'], ['very']], [['simple'], ['does']], [['its'], ['bad']], [['nice'], ['bad']], [['bad'], ['food']], [['service'], ['excellent']], [['tonight'], ['ordered']], [['terrible'], ['food']], [['gentle'], ['always']], [['terrible'], ['top']], [['like'], ['actually']], [['terrible']], [['definitely'], ['home']], [['huge'], ['fresh']], [['noisy'], ['fresh']], [['superb']], [['cooked'], ['perfection']], [['took'], ['very']], [['happy'], ['friendly']], [['love']], [['ordered'], ['delicious']], [['location'], ['terrible']], [['always'], ['winner']], [['wonderful'], ['match']], [['friendly']], [['terrible'], ['awesome']], [['kicks'], ['ass']], [['terrible'], ['item']], [['always'], ['terrible']], [['worth'], ['gem']], [['enjoyed'], ['anniversary']], [['tucked'], ['terrible']], [['sparkling'], ['flights']], [['cheese'], ['delicious']], [['bad']], [['best'], ['part']], [['steamed'], ['amazing']], [['place'], ['must']], [['excellent'], ['unique']], [['ribs'], ['must']], [['juicy'], ['flavorful']], [['rate'], ['experience']], [['always'], ['order']], [['satisfying'], ['flavorful']], [['try'], ['came']], [['made'], ['terrible']], [['tavern'], ['awesome']], [['terrible']], [['best'], ['breakfast']], [['genuinely'], ['bad']], [['traditional'], ['tastes']], [['fresh'], ['amazing']], [['environment'], ['cozy']], [['fish'], ['bad']], [['absolutely'], ['hands']], [['friendly']], [['looks'], ['gorgeous']], [['love'], ['eat']], [['quality'], ['fantastic']], [['excellent'], ['nice']], [['best']], [['always'], ['bad']], [['well'], ['tech']], [['town'], ['first']], [['thank'], ['bad']], [['best'], ['price']], [['green'], ['fantastic']], [['thanks'], ['perfect']], [['casual'], ['upscale']], [['here'], ['terrible']], [['so'], ['flavorful']], [['nice']], [['top'], ['heaven']], [['really'], ['worth']], [['wonderful'], ['wonderful']], [['portions'], ['terrible']], [['person'], ['enjoyed']], [['outstanding'], ['food']], [['thank'], ['fabulous']], [['received'], ['terrible']], [['thorough'], ['reasonably']], [['friendly']], [['wine'], ['best']], [['better'], ['club']], [['cooked'], ['perfectly']], [['smaller'], ['location']], [['fun'], ['go']], [['family'], ['loved']], [['terrible']], [['amazing'], ['cut']], [['owner'], ['facility']], [['totally'], ['next']], [['professional']], [['finest'], ['area']], [[\"'re\"], ['thing']], [['enjoy'], ['here']], [['day'], ['trip']], [['love'], ['vibe']], [['super'], ['friendly']], [['corn'], ['bad']], [['super'], ['well']], [['loved']], [['super'], ['better']], [['best'], ['experience']], [['happy'], ['here']], [['played'], ['bad']], [['very'], ['atmosphere']], [['sit'], ['eat']], [['always'], ['clean']], [['just'], ['delightful']], [['steak'], ['shrimp']], [['above']], [[\"'ve\"], ['here']], [['bad'], ['vision']], [['such'], ['cool']], [['recommend'], ['imports']], [['girls'], ['attractive']], [['quiet'], ['nice']], [['took'], ['home']], [['eating'], ['kings']], [['terrible'], ['food']], [['excellent']], [['pretty'], ['bad']], [['friendly'], ['honest']], [['terrible'], ['terrible']], [['best'], ['belly']], [['fresh'], ['ingredients']], [[\"'ll\"], ['definitely']], [['extra'], ['nice']], [['best'], ['joint']], [['keep'], ['amazing']], [['food'], ['go']], [['excellent'], ['tender']], [['super'], ['friendly']], [['hot'], ['perfectly']], [['travel'], ['know']], [['very'], ['nice']], [['shows'], ['here']], [['enjoy'], ['freshest']], [['friendly'], ['delicious']], [['deliver'], ['school']], [['greatest']], [['owned'], ['absolutely']], [['decent'], ['selection']], [['very']], [['just'], ['best']], [['best'], ['corn']], [['wonderful']], [['fun'], ['rush']], [['clean'], ['well']], [['remember'], ['very']], [['love'], ['family']], [['found'], ['apartment']], [['very'], ['helpful']], [['located'], ['terrible']], [['worth']], [['super'], ['friendly']], [['terrible'], ['very']], [['favorite'], ['top']], [['terrible'], ['terrible']], [['bad'], ['food']], [['best'], ['yarn']], [['terrible'], ['awesome']], [['enjoyed'], ['bite']], [['food'], ['amazing']], [['friendly'], ['reasonably']], [['bad'], ['reasonable']], [['terrible'], ['authentic']], [['terrible'], ['authentic']], [['solid'], ['delicious']], [['new'], ['new']], [['family'], ['friends']], [[\"'ve\"], ['added']], [['bring'], ['helpful']], [['terrible'], ['games']], [['clothes'], ['sparkling']], [['best'], ['dishes']], [['bad'], ['bites']], [['goes'], ['ranks']], [['bad'], ['food']], [['really']], [['fun'], ['friendly']], [['regular']], [['so'], ['delicious']], [['definitely']], [['also'], ['terrible']], [['helped'], ['very']], [['terrible'], ['delicious']], [['loved']], [['fair'], ['fast']], [['terrible']], [['makes'], ['entertaining']], [['love'], ['keep']], [['right'], ['friendly']], [['definitely'], ['recommend']], [['small'], ['gigantic']], [['very'], ['bad']], [['margaritas'], ['outstanding']], [['highly'], ['recommend']], [['patient'], ['kind']], [['heck'], ['decent']], [['cooked'], ['perfection']], [['very'], ['friendly']], [['terrible'], ['love']], [['walk'], ['transformed']], [['chose'], ['terrible']], [['terrible'], ['sports']], [['cute'], ['east']], [['art'], ['cool']], [['place'], ['brought']], [['best'], ['chicken']], [['terrible']], [['fun'], ['catch']], [['delicious'], ['authentic']], [['chips'], ['excellent']], [['wonderful'], ['actually']], [['terrible'], ['spot']], [['definitely'], ['recommend']], [['well'], ['terrible']], [['took'], ['recommendation']], [['bad'], ['friendly']], [['tried'], ['best']], [['fun']], [['fantastic'], ['terrible']], [['fantastic'], ['love']], [['happy'], ['crowd']], [['bad']], [['best'], ['eat']], [['terrible'], ['experience']], [['thorough'], ['genuinely']], [['plus'], ['amazing']], [['very'], ['friendly']], [['satisfying'], ['flavor']], [['helped'], ['right']], [['sit'], ['best']], [['recommend']], [['informative']], [['cool'], ['place']], [['super'], ['friendly']], [['detailed'], ['amazing']], [['kind']], [['box'], ['such']], [['looked'], ['terrible']], [['perfect']], [['crispy'], ['very']], [['food'], ['amazing']], [['asada'], ['awesome']], [['perfect']], [['nice'], ['games']], [['wonderful']], [['hot'], ['wonderful']], [['fun'], ['enjoy']], [['loved'], ['definitely']], [['got'], ['screwed']], [['very'], ['friendly']], [['love'], ['amazing']], [['wide'], ['spectrum']], [['blast'], ['excellent']], [['terrible'], ['service']], [['bad'], ['big']], [['chicken'], ['excellent']], [['plenty'], ['amazing']], [['definitely'], ['roaring']], [['stay'], ['day']], [['creamy'], ['delicious']], [['bad'], ['romantic']], [['knows'], ['treats']], [['can'], ['honestly']], [['green'], ['incredible']], [['recommend'], ['impact']], [['terrible'], ['terrible']], [['sandwich'], ['best']], [['recommend']], [['love']], [['recommend'], ['wonderfully']], [['choices'], ['lovers']], [['reasonable'], ['guaranteed']], [['homemade'], ['bad']], [['worth']], [['amazing'], ['terrible']], [['best']], [['casual'], ['acceptable']], [['like'], ['fresh']], [['favorite']], [['fantastic'], ['location']], [['pleased']], [['food'], ['fresh']], [['fresh']], [['fresh']]]\n"
     ]
    }
   ],
   "source": [
    "print(ref0_att_antonyms)\n",
    "print(ref1_att_antonyms)\n",
    "\n"
   ]
  }
 ],
 "metadata": {
  "kernelspec": {
   "display_name": "Python 3.8.13 ('cleantransfer')",
   "language": "python",
   "name": "python3"
  },
  "language_info": {
   "codemirror_mode": {
    "name": "ipython",
    "version": 3
   },
   "file_extension": ".py",
   "mimetype": "text/x-python",
   "name": "python",
   "nbconvert_exporter": "python",
   "pygments_lexer": "ipython3",
   "version": "3.8.13"
  },
  "orig_nbformat": 4,
  "vscode": {
   "interpreter": {
    "hash": "1262644d422a82105623d802af89e6e9ed007275a479308d900e7081e9b63df8"
   }
  }
 },
 "nbformat": 4,
 "nbformat_minor": 2
}
