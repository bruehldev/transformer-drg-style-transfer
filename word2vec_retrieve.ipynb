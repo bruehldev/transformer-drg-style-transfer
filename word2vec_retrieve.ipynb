{
 "cells": [
  {
   "cell_type": "markdown",
   "metadata": {},
   "source": [
    "## Prepare Referece files using Word2Vec for retrieving attributes\n"
   ]
  },
  {
   "cell_type": "code",
   "execution_count": 1,
   "metadata": {},
   "outputs": [],
   "source": [
    "import gensim.downloader as api\n",
    "import numpy as np\n",
    "\n",
    "wv = api.load(\"word2vec-google-news-300\")"
   ]
  },
  {
   "cell_type": "code",
   "execution_count": 2,
   "metadata": {},
   "outputs": [
    {
     "name": "stdout",
     "output_type": "stream",
     "text": [
      "[('queen', 0.7118192911148071), ('monarch', 0.6189674139022827), ('princess', 0.5902431011199951), ('crown_prince', 0.5499460697174072), ('prince', 0.5377321243286133)]\n"
     ]
    }
   ],
   "source": [
    "# test\n",
    "print(wv.most_similar(positive=[\"king\", \"woman\"], negative=[\"man\"], topn=5))"
   ]
  },
  {
   "cell_type": "code",
   "execution_count": 4,
   "metadata": {},
   "outputs": [],
   "source": [
    "positive_words = [\"good\", \"great\", \"beautiful\", \"positive\", \"delicious\"]\n",
    "negative_words = [\"bad\", \"worse\", \"awful\", \"negative\", \"disgusting\"]\n",
    "\n",
    "v_positive = np.average(np.array(list(map(lambda x: wv[x], positive_words))), axis=0)\n",
    "v_negative = np.average(np.array(list(map(lambda x: wv[x], negative_words))), axis=0)"
   ]
  },
  {
   "cell_type": "code",
   "execution_count": 17,
   "metadata": {},
   "outputs": [],
   "source": [
    "from typing import List\n",
    "\n",
    "\n",
    "def retrieve_antonyms(attributes: List[str], to_positive: bool = True) -> List[str]:\n",
    "    transferred_attributes = list()\n",
    "    for attribute in attributes:\n",
    "        if to_positive:\n",
    "            v_query = wv[attribute] + v_positive - v_negative\n",
    "        else:\n",
    "            v_query = wv[attribute] - v_positive + v_negative\n",
    "        antonym = wv.most_similar(positive=[v_query], topn=1)\n",
    "        transferred_attributes.append(antonym[0][0])\n",
    "    return transferred_attributes"
   ]
  },
  {
   "cell_type": "code",
   "execution_count": 18,
   "metadata": {},
   "outputs": [
    {
     "name": "stdout",
     "output_type": "stream",
     "text": [
      "['sadly', 'noisy', 'hungry']\n"
     ]
    }
   ],
   "source": [
    "# test\n",
    "print(retrieve_antonyms([\"sadly\", \"noisy\", \"hungry\"]))"
   ]
  },
  {
   "cell_type": "code",
   "execution_count": null,
   "metadata": {},
   "outputs": [],
   "source": [
    "def read_file(path):\n",
    "    with open(path) as fp:\n",
    "        lines = fp.read().splitlines()\n",
    "    return lines"
   ]
  },
  {
   "cell_type": "code",
   "execution_count": null,
   "metadata": {},
   "outputs": [],
   "source": [
    "def create_file(input_file, output_file, to_positive=True):\n",
    "    with open(output_file, \"w\") as out_fp:\n",
    "        input_lines = read_file(input_file)\n",
    "        for input_line in input_lines:\n",
    "            # each input line looks like this:\n",
    "            # [ATTRS]delicious<CONT_START>I never tasted such <REPLACE> soup.<END>\n",
    "            splits = input_line.split(\"<CONT_START>\")\n",
    "            attributes = splits[0].remove(\"[ATTRS]\")\n",
    "            antonyms = retrieve_antonyms(attributes, to_positive)\n",
    "            output_line = \"[ATTRS]\" + \" \".join(antonyms) + splits[1]\n",
    "            out_fp.write(output_line)"
   ]
  },
  {
   "cell_type": "code",
   "execution_count": null,
   "metadata": {},
   "outputs": [],
   "source": [
    "data_dir = \"/home/jack/Desktop/NN/clean/datasets/yelp\"\n",
    "\n",
    "reference_0 = data_dir + \"/processed_files_with_bert_with_best_head/reference_0.txt\"\n",
    "reference_1 = data_dir + \"/processed_files_with_bert_with_best_head/reference_1.txt\"\n",
    "out_reference_0 = data_dir + \"/processed_files_with_bert_with_best_head/word2vec/reference_0.txt\"\n",
    "out_reference_1 = data_dir + \"/processed_files_with_bert_with_best_head/word2vec/reference_1.txt\"\n",
    "\n",
    "create_file(reference_0, out_reference_0, True)\n",
    "create_file(reference_1, out_reference_1, False)"
   ]
  }
 ],
 "metadata": {
  "kernelspec": {
   "display_name": "Python 3.8.5 64-bit",
   "language": "python",
   "name": "python3"
  },
  "language_info": {
   "codemirror_mode": {
    "name": "ipython",
    "version": 3
   },
   "file_extension": ".py",
   "mimetype": "text/x-python",
   "name": "python",
   "nbconvert_exporter": "python",
   "pygments_lexer": "ipython3",
   "version": "3.8.5"
  },
  "orig_nbformat": 4,
  "vscode": {
   "interpreter": {
    "hash": "9650cb4e16cdd4a8e8e2d128bf38d875813998db22a3c986335f89e0cb4d7bb2"
   }
  }
 },
 "nbformat": 4,
 "nbformat_minor": 2
}
