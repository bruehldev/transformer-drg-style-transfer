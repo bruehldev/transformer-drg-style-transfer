{
 "cells": [
  {
   "cell_type": "code",
   "execution_count": 1,
   "metadata": {},
   "outputs": [],
   "source": [
    "from tqdm import tqdm, trange\n",
    "import numpy as np"
   ]
  },
  {
   "cell_type": "code",
   "execution_count": 11,
   "metadata": {},
   "outputs": [],
   "source": [
    "def process_file(input_file, output_file):\n",
    "    \"\"\"\n",
    "    The function process the data files for Delete & Generate and convert\n",
    "    it for the Delete, Retrieve and Generate training by separating the content\n",
    "    and attributes. It includes all the attribure words.\n",
    "    \n",
    "    Input_file: string : Path of the input file\n",
    "    Output_file: string : Path of the output file \n",
    "    \"\"\"\n",
    "    \n",
    "    with open(input_file) as fp:\n",
    "        data = fp.read().splitlines()\n",
    "    with open (output_file,\"w\") as out_fp:\n",
    "        for x in tqdm(data):\n",
    "            temp = x.split(\"<START>\")\n",
    "            con = temp[0].replace(\"<POS>\",\"\").replace(\"<NEG>\",\"\").replace(\"<CON_START>\",\"\")\n",
    "            sen = temp[1].replace(\"<END>\",\"\")\n",
    "            lt1 = con.split()\n",
    "            lt2 = sen.split()\n",
    "            att_tokens = [z for z in lt2 if z not in lt1]\n",
    "            max_atts = 0\n",
    "            if len(att_tokens) > max_atts:\n",
    "                max_atts = len(att_tokens)\n",
    "            att_words = \" \".join(att_tokens)\n",
    "            out_str = \"<ATTR_WORDS> \" + att_words + \" <CON_START> \" + con.strip() + \" <START> \" + sen.strip() + \" <END>\" + \"\\n\"\n",
    "            out_fp.write(out_str)\n",
    "    "
   ]
  },
  {
   "cell_type": "code",
   "execution_count": 8,
   "metadata": {},
   "outputs": [],
   "source": [
    "def process_file_v1(input_file, output_file):\n",
    "    \"\"\"\n",
    "    The function process the data files for Delete & Generate and convert\n",
    "    it for the Delete, Retrieve and Generate training by separating the content\n",
    "    and attributes. \n",
    "    It randomly picks 70% of the attributes only to make the generation\n",
    "    more realistic instead of just filling the blanks, which helps while generating\n",
    "    sentences for test cases.\n",
    "    \n",
    "    Input_file: string : Path of the input file\n",
    "    Output_file: string : Path of the output file \n",
    "    \"\"\"\n",
    "    with open(input_file) as fp:\n",
    "        data = fp.read().splitlines()\n",
    "    with open (output_file,\"w\") as out_fp:\n",
    "        for x in tqdm(data):\n",
    "            temp = x.split(\"<START>\")\n",
    "            con = temp[0].replace(\"<POS>\",\"\").replace(\"<NEG>\",\"\").replace(\"<CON_START>\",\"\")\n",
    "            sen = temp[1].replace(\"<END>\",\"\")\n",
    "            lt1 = con.split()\n",
    "            lt2 = sen.split()\n",
    "            att_words = [z for z in lt2 if z not in lt1]\n",
    "            #print(att_words)\n",
    "            \n",
    "            if len(att_words) > 2:\n",
    "                indx = np.array(list(range(len(att_words))))\n",
    "                np.random.shuffle(indx)\n",
    "                att_words = \" \".join([att_words[indx[k]] for k in range(int(0.7 * len(att_words)))])\n",
    "            else: # If attributes less than 2 then keep all the attributes\n",
    "                att_words = \" \".join(att_words)\n",
    "            #print(att_words)\n",
    "            # TODO HERE MODIFIY CON with <REPLACE> to show position of word\n",
    "            # Also put Token <REPLACE> in reference file \n",
    "            \n",
    "            out_str = \"<ATTR_WORDS> \" + att_words + \" <CON_START> \" + con.strip() + \" <START> \" + sen.strip() + \" <END>\" + \"\\n\"\n",
    "            out_fp.write(out_str)"
   ]
  },
  {
   "cell_type": "code",
   "execution_count": 6,
   "metadata": {},
   "outputs": [],
   "source": [
    "'''Merge files'''\n",
    "# Create sentiment_train file before run!\n",
    "# Create sentiment_test file before run!\n",
    "# Create sentiment_dev file before run!\n",
    "\n",
    "data_dir = \"/home/jack/Desktop/NN/clean/datasets/yelp\"\n",
    "\n",
    "filenames = [data_dir+\"/processed_files_with_bert_with_best_head/sentiment_train_1.txt\", data_dir+\"/processed_files_with_bert_with_best_head/sentiment_train_0.txt\"]\n",
    "with open(data_dir+\"/processed_files_with_bert_with_best_head/sentiment_train.txt\", 'w') as outfile:\n",
    "    for fname in filenames:\n",
    "        with open(fname) as infile:\n",
    "            for line in infile:\n",
    "                outfile.write(line)\n",
    "\n",
    "\n",
    "filenames = [data_dir+\"/processed_files_with_bert_with_best_head/sentiment_test_1.txt\", data_dir+\"/processed_files_with_bert_with_best_head/sentiment_test_0.txt\"]\n",
    "with open(data_dir+\"/processed_files_with_bert_with_best_head/sentiment_test.txt\", 'w') as outfile:\n",
    "    for fname in filenames:\n",
    "        with open(fname) as infile:\n",
    "            for line in infile:\n",
    "                outfile.write(line)\n",
    "\n",
    "filenames = [data_dir+\"/processed_files_with_bert_with_best_head/sentiment_dev_1.txt\", data_dir+\"/processed_files_with_bert_with_best_head/sentiment_dev_0.txt\"]\n",
    "with open(data_dir+\"/processed_files_with_bert_with_best_head/sentiment_dev.txt\", 'w') as outfile:\n",
    "    for fname in filenames:\n",
    "        with open(fname) as infile:\n",
    "            for line in infile:\n",
    "                outfile.write(line)"
   ]
  },
  {
   "cell_type": "code",
   "execution_count": 14,
   "metadata": {},
   "outputs": [
    {
     "name": "stderr",
     "output_type": "stream",
     "text": [
      "100%|██████████| 443259/443259 [00:01<00:00, 314534.16it/s]\n",
      "100%|██████████| 266041/266041 [00:00<00:00, 344643.63it/s]\n",
      "100%|██████████| 177218/177218 [00:00<00:00, 316493.76it/s]\n"
     ]
    }
   ],
   "source": [
    "\n",
    "process_file(data_dir+\"/processed_files_with_bert_with_best_head/sentiment_train.txt\",data_dir+\"/processed_files_with_bert_with_best_head/delete_retrieve_edit_model/sentiment_train_all_attrs.txt\")\n",
    "process_file(data_dir+\"/processed_files_with_bert_with_best_head/sentiment_train_1.txt\",data_dir+\"/processed_files_with_bert_with_best_head/delete_retrieve_edit_model/sentiment_train_1_all_attrs.txt\")\n",
    "process_file(data_dir+\"/processed_files_with_bert_with_best_head/sentiment_train_0.txt\",data_dir+\"/processed_files_with_bert_with_best_head/delete_retrieve_edit_model/sentiment_train_0_all_attrs.txt\")"
   ]
  },
  {
   "cell_type": "code",
   "execution_count": 12,
   "metadata": {},
   "outputs": [
    {
     "name": "stderr",
     "output_type": "stream",
     "text": [
      "100%|██████████| 1000/1000 [00:00<00:00, 142784.82it/s]\n",
      "100%|██████████| 500/500 [00:00<00:00, 265529.50it/s]\n",
      "100%|██████████| 500/500 [00:00<00:00, 269660.79it/s]\n"
     ]
    }
   ],
   "source": [
    "process_file(data_dir+\"/processed_files_with_bert_with_best_head/sentiment_test.txt\",data_dir+\"/processed_files_with_bert_with_best_head/delete_retrieve_edit_model/sentiment_test_all_attrs.txt\")\n",
    "process_file(data_dir+\"/processed_files_with_bert_with_best_head/sentiment_test_1.txt\",data_dir+\"/processed_files_with_bert_with_best_head/delete_retrieve_edit_model/sentiment_test_1_all_attrs.txt\")\n",
    "process_file(data_dir+\"/processed_files_with_bert_with_best_head/sentiment_test_0.txt\",data_dir+\"/processed_files_with_bert_with_best_head/delete_retrieve_edit_model/sentiment_test_0_all_attrs.txt\")"
   ]
  },
  {
   "cell_type": "code",
   "execution_count": 15,
   "metadata": {},
   "outputs": [
    {
     "name": "stderr",
     "output_type": "stream",
     "text": [
      "100%|██████████| 4000/4000 [00:00<00:00, 271524.32it/s]\n",
      "100%|██████████| 2000/2000 [00:00<00:00, 302237.72it/s]\n",
      "100%|██████████| 2000/2000 [00:00<00:00, 226621.14it/s]\n"
     ]
    }
   ],
   "source": [
    "process_file(data_dir+\"/processed_files_with_bert_with_best_head/sentiment_dev.txt\",data_dir+\"/processed_files_with_bert_with_best_head/delete_retrieve_edit_model/sentiment_dev_all_attrs.txt\")\n",
    "process_file(data_dir+\"/processed_files_with_bert_with_best_head/sentiment_dev_0.txt\",data_dir+\"/processed_files_with_bert_with_best_head/delete_retrieve_edit_model/sentiment_dev_1_all_attrs.txt\")\n",
    "process_file(data_dir+\"/processed_files_with_bert_with_best_head/sentiment_dev_1.txt\",data_dir+\"/processed_files_with_bert_with_best_head/delete_retrieve_edit_model/sentiment_dev_0_all_attrs.txt\")"
   ]
  },
  {
   "cell_type": "code",
   "execution_count": 16,
   "metadata": {},
   "outputs": [
    {
     "name": "stderr",
     "output_type": "stream",
     "text": [
      "100%|██████████| 443259/443259 [00:01<00:00, 239308.37it/s]\n",
      "100%|██████████| 266041/266041 [00:00<00:00, 268879.29it/s]\n",
      "100%|██████████| 177218/177218 [00:00<00:00, 216021.92it/s]\n"
     ]
    }
   ],
   "source": [
    "process_file_v1(data_dir+\"/processed_files_with_bert_with_best_head/sentiment_train.txt\",data_dir+\"/processed_files_with_bert_with_best_head/delete_retrieve_edit_model/sentiment_train.txt\")\n",
    "process_file_v1(data_dir+\"/processed_files_with_bert_with_best_head/sentiment_train_1.txt\",data_dir+\"/processed_files_with_bert_with_best_head/delete_retrieve_edit_model/sentiment_train_1.txt\")\n",
    "process_file_v1(data_dir+\"/processed_files_with_bert_with_best_head/sentiment_train_0.txt\",data_dir+\"/processed_files_with_bert_with_best_head/delete_retrieve_edit_model/sentiment_train_0.txt\")"
   ]
  },
  {
   "cell_type": "code",
   "execution_count": 17,
   "metadata": {},
   "outputs": [
    {
     "name": "stderr",
     "output_type": "stream",
     "text": [
      "100%|██████████| 1000/1000 [00:00<00:00, 137603.88it/s]\n",
      "100%|██████████| 500/500 [00:00<00:00, 215092.51it/s]\n",
      "100%|██████████| 500/500 [00:00<00:00, 190269.64it/s]\n"
     ]
    }
   ],
   "source": [
    "process_file_v1(data_dir+\"/processed_files_with_bert_with_best_head/sentiment_test.txt\",data_dir+\"/processed_files_with_bert_with_best_head/delete_retrieve_edit_model/sentiment_test.txt\")\n",
    "process_file_v1(data_dir+\"/processed_files_with_bert_with_best_head/sentiment_test_1.txt\",data_dir+\"/processed_files_with_bert_with_best_head/delete_retrieve_edit_model/sentiment_test_1.txt\")\n",
    "process_file_v1(data_dir+\"/processed_files_with_bert_with_best_head/sentiment_test_0.txt\",data_dir+\"/processed_files_with_bert_with_best_head/delete_retrieve_edit_model/sentiment_test_0.txt\")"
   ]
  },
  {
   "cell_type": "code",
   "execution_count": 18,
   "metadata": {},
   "outputs": [
    {
     "name": "stderr",
     "output_type": "stream",
     "text": [
      "100%|██████████| 4000/4000 [00:00<00:00, 197485.89it/s]\n",
      "100%|██████████| 2000/2000 [00:00<00:00, 214806.10it/s]\n",
      "100%|██████████| 2000/2000 [00:00<00:00, 267553.60it/s]\n"
     ]
    }
   ],
   "source": [
    "process_file_v1(data_dir+\"/processed_files_with_bert_with_best_head/sentiment_dev.txt\",data_dir+\"/processed_files_with_bert_with_best_head/delete_retrieve_edit_model/sentiment_dev.txt\")\n",
    "process_file_v1(data_dir+\"/processed_files_with_bert_with_best_head/sentiment_dev_0.txt\",data_dir+\"/processed_files_with_bert_with_best_head/delete_retrieve_edit_model/sentiment_dev_1.txt\")\n",
    "process_file_v1(data_dir+\"/processed_files_with_bert_with_best_head/sentiment_dev_1.txt\",data_dir+\"/processed_files_with_bert_with_best_head/delete_retrieve_edit_model/sentiment_dev_0.txt\")"
   ]
  }
 ],
 "metadata": {
  "kernelspec": {
   "display_name": "Python 3.8.13 ('cleantransfer')",
   "language": "python",
   "name": "python3"
  },
  "language_info": {
   "codemirror_mode": {
    "name": "ipython",
    "version": 3
   },
   "file_extension": ".py",
   "mimetype": "text/x-python",
   "name": "python",
   "nbconvert_exporter": "python",
   "pygments_lexer": "ipython3",
   "version": "3.8.13"
  },
  "vscode": {
   "interpreter": {
    "hash": "1262644d422a82105623d802af89e6e9ed007275a479308d900e7081e9b63df8"
   }
  }
 },
 "nbformat": 4,
 "nbformat_minor": 2
}
