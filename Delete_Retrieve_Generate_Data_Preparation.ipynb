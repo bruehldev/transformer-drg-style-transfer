{
 "cells": [
  {
   "cell_type": "code",
   "execution_count": 1,
   "metadata": {},
   "outputs": [],
   "source": [
    "from tqdm import tqdm, trange\n",
    "import numpy as np\n",
    "import copy\n",
    "\n",
    "data_dir = \"/home/jack/Desktop/NN/clean/datasets/yelp\""
   ]
  },
  {
   "cell_type": "code",
   "execution_count": 2,
   "metadata": {},
   "outputs": [],
   "source": [
    "def process_file(input_file, output_file):\n",
    "    \"\"\"\n",
    "    The function process the data files for Delete & Generate and convert\n",
    "    it for the Delete, Retrieve and Generate training by separating the content\n",
    "    and attributes. It includes all the attribure words.\n",
    "    \n",
    "    Input_file: string : Path of the input file\n",
    "    Output_file: string : Path of the output file \n",
    "    \"\"\"\n",
    "    \n",
    "    with open(input_file) as fp:\n",
    "        data = fp.read().splitlines()\n",
    "    with open (output_file,\"w\") as out_fp:\n",
    "        for x in tqdm(data):\n",
    "            temp = x.split(\"<START>\")\n",
    "            con = temp[0].replace(\"<POS>\",\"\").replace(\"<NEG>\",\"\").replace(\"<CON_START>\",\"\")\n",
    "            sen = temp[1].replace(\"<END>\",\"\")\n",
    "            lt1 = con.split()\n",
    "            lt2 = sen.split()\n",
    "            att_tokens = [z for z in lt2 if z not in lt1]\n",
    "            max_atts = 0\n",
    "            if len(att_tokens) > max_atts:\n",
    "                max_atts = len(att_tokens)\n",
    "            att_words = \" \".join(att_tokens)\n",
    "            out_str = \"<ATTR_WORDS> \" + att_words + \" <CON_START> \" + con.strip() + \" <START> \" + sen.strip() + \" <END>\" + \"\\n\"\n",
    "            out_fp.write(out_str)\n",
    "    "
   ]
  },
  {
   "cell_type": "code",
   "execution_count": 221,
   "metadata": {},
   "outputs": [],
   "source": [
    "def process_file_v1(input_file, output_file, test = False):\n",
    "    \"\"\"\n",
    "    The function process the data files for Delete & Generate and convert\n",
    "    it for the Delete, Retrieve and Generate training by separating the content\n",
    "    and attributes. \n",
    "    It randomly picks 70% of the attributes only to make the generation\n",
    "    more realistic instead of just filling the blanks, which helps while generating\n",
    "    sentences for test cases.\n",
    "    \n",
    "    Input_file: string : Path of the input file\n",
    "    Output_file: string : Path of the output file \n",
    "    \"\"\"\n",
    "    with open(input_file) as fp:\n",
    "        data = fp.read().splitlines()\n",
    "    with open (output_file,\"w\") as out_fp:\n",
    "        for x in tqdm(data):\n",
    "            temp = x.split(\"<START>\")\n",
    "            con = temp[0].replace(\"<POS>\",\"\").replace(\"<NEG>\",\"\").replace(\"<CON_START>\",\"\")\n",
    "            sen = temp[1].replace(\"<END>\",\"\")\n",
    "            #print(\"con\", con)\n",
    "            #print(\"sen\", sen)\n",
    "            lt1 = con.split()\n",
    "            org_lt1 = copy.deepcopy(lt1)\n",
    "            lt2 = sen.split()\n",
    "           \n",
    "            \n",
    "            att_words = [z for z in lt2 if z not in lt1]\n",
    "            att_words = list(reversed(sorted(att_words, key=len)))\n",
    "            index_att = []\n",
    "\n",
    "            #print(len(att_words),att_words)\n",
    "            #print(len(lt1),lt1)\n",
    "            #print(len(lt2),lt2)\n",
    "            \n",
    "            # Don't put special char in attribute words. Reduce att -> reduce confusion\n",
    "            my_att = []\n",
    "\n",
    "            special_characters =  \"!@#$%^&*()-+?_=<>/\\'\\'\"\n",
    "            for index, word  in enumerate(lt2) :\n",
    "                if word in special_characters:\n",
    "                    continue\n",
    "                if word in lt1:\n",
    "                    continue\n",
    "                if any(c in special_characters for c in word) and len(word) < 3:\n",
    "                    continue\n",
    "                if \"-\" in word:\n",
    "                    splitted_words = word.split(\"-\")\n",
    "                    if splitted_words[0] in lt1 and splitted_words[1] in lt1:\n",
    "                        continue\n",
    "                if any(c in special_characters for c in word) and len(word) < 4:\n",
    "                    splitted_words = word.split(\"\\'\")\n",
    "                    if len(splitted_words)>0 and splitted_words[0] in lt1 and splitted_words[1] in lt1:\n",
    "                        continue\n",
    "                # Attribute found\n",
    "                my_att.append(word)\n",
    "                # Remember index\n",
    "                index_att.append(index)\n",
    "            \n",
    "\n",
    "            att_words = my_att\n",
    "\n",
    "            #print(\"lenlt1\", len(lt1), len(att_words))\n",
    "            #print(\"lenlt2\", len(lt2))\n",
    "            #if len(att_words) != len(my_att):\n",
    "            #print(len(att_words) != len(my_att))\n",
    "            #print(len(att_words),att_words)\n",
    "            #print(len(my_att),my_att)\n",
    "\n",
    "            \n",
    "\n",
    "\n",
    "                \n",
    "                #if lt1[replace_index - 1] == lt2[replace_index - 1] and lt1[replace_index + 1] == lt2[replace_index + 1]:\n",
    "                    #print(\"AAAAAAAAA\") \n",
    "                    #print(lt2[replace_index]) \n",
    "                    #print(lt1[replace_index]) \n",
    "                    #lt1.insert(replace_index, \"<REPLACE>\")\n",
    "                #print(replace_index)\n",
    "                \n",
    "\n",
    "            set_replace_tokens(lt1, lt2, my_att, index_att)\n",
    "\n",
    "            if len(att_words) > 2:\n",
    "                indx = np.array(list(range(len(att_words))))\n",
    "                # Pref delete short words\n",
    "                att_words = \" \".join([att_words[indx[k]] for k in range(int(0.7 * len(att_words)))])\n",
    "                #np.random.shuffle(indx)\n",
    "            else: # If attributes less than 2 then keep all the attributes\n",
    "                att_words = \" \".join(att_words)\n",
    "            #print(\"att_words\", att_words)\n",
    "            #print(\"sen: \", sen)\n",
    "            #print(\"con: \", con)\n",
    "\n",
    "\n",
    "            # TODO HERE MODIFIY CON with <REPLACE> to show position of word\n",
    "            # Also put Token <REPLACE> in reference file \n",
    "            if(test):\n",
    "                out_str = \"<ATTR_WORDS> \" + att_words + \" <CON_START> \" +  \" \".join(lt1).strip() + \" <START> \" + \"\\n\"\n",
    "            else:\n",
    "                out_str = \"<ATTR_WORDS> \" + att_words + \" <CON_START> \" +  \" \".join(lt1).strip() + \" <START> \" + sen.strip() + \" <END>\"  + \"\\n\"\n",
    "            out_fp.write(out_str)\n",
    "\n",
    "def set_replace_tokens(content_list, full_list, att_list, index_att_list, second_try = False):\n",
    "    #print(content_list, full_list, att_list, index_att_list)\n",
    "    street_index = 0\n",
    "    last_replace_index = None\n",
    "    insert_index = None\n",
    "    for index, replace_index in enumerate(index_att_list):\n",
    "        # Catch street \n",
    "        if last_replace_index == replace_index - 1:\n",
    "            content_list.insert(replace_index, \"<REPLACE>\")\n",
    "            last_replace_index = replace_index\n",
    "            continue\n",
    "\n",
    "        last_replace_index = replace_index\n",
    "        # Catch first street if starts with 0\n",
    "        if replace_index == street_index:\n",
    "            street_index += 1\n",
    "            content_list.insert(replace_index, \"<REPLACE>\")\n",
    "            continue\n",
    "\n",
    "        \n",
    "            \n",
    "        # TODO DEbug that after remove\n",
    "        #out_of_index = False\n",
    "        #if replace_index+1 >= len(content_list):\n",
    "        #    out_of_index = True\n",
    "        #    continue\n",
    "        left_matches = []\n",
    "        right_matches = []\n",
    "        left_word_query = None\n",
    "        right_word_query = None\n",
    "        \n",
    "        if replace_index-1 >= 0:\n",
    "            left_word_query = full_list[replace_index-1]\n",
    "            left_matches = [(index,x) for index,x in enumerate(content_list) if x == left_word_query]\n",
    "\n",
    "        if replace_index+1 < len(full_list):\n",
    "            right_word_query = full_list[replace_index+1]\n",
    "            right_matches = [(index,x) for index,x in enumerate(content_list) if x == right_word_query]\n",
    "\n",
    "        if len(left_matches) == 1:\n",
    "            insert_index = left_matches[0][0]+1\n",
    "            content_list.insert(insert_index, \"<REPLACE>\")\n",
    "\n",
    "            #for x in range(get_street_length(index_att_list, replace_index)):\n",
    "               # replace_index += 1\n",
    "               # insert_index += 1\n",
    "               # content_list.insert(insert_index, \"<REPLACE>\")\n",
    "            continue\n",
    "        \n",
    "        if len(right_matches) == 1:\n",
    "            insert_index = right_matches[0][0]\n",
    "            content_list.insert(insert_index, \"<REPLACE>\")            \n",
    "            continue\n",
    "            #print(\"RIGHT\")\n",
    "\n",
    "\n",
    "        left_concat_matches = []\n",
    "        right_concat_matches = []\n",
    "        if left_word_query != None:\n",
    "            left_concat_matches = [(index,x) for index,x in enumerate(content_list) if index-1 > -1 and content_list[index-1]+content_list[index] == left_word_query]\n",
    "        if right_word_query != None:\n",
    "            right_concat_matches = [(index,x) for index,x in enumerate(content_list) if index+1 < len(content_list) and content_list[index]+content_list[index+1] == right_word_query]\n",
    "        \n",
    "        if len(left_concat_matches) == 1: \n",
    "            insert_index = left_concat_matches[0][0]+1\n",
    "            content_list.insert(insert_index, \"<REPLACE>\")\n",
    "            continue\n",
    "\n",
    "        if len(right_concat_matches) == 1: \n",
    "            insert_index = right_concat_matches[0][0]\n",
    "            content_list.insert(insert_index, \"<REPLACE>\")\n",
    "            continue\n",
    "\n",
    "\n",
    "        left_shifted_match = []\n",
    "        right_shifted_matches = []\n",
    "        if replace_index-2 >= 0:\n",
    "            left_word_query_shift = full_list[replace_index-2]\n",
    "            left_shifted_match = [(index,x) for index,x in enumerate(content_list) if index-1 > -1 and content_list[index-1] == left_word_query_shift]\n",
    "        if replace_index+2 < len(full_list):\n",
    "            right_word_query_shift = full_list[replace_index+2]\n",
    "            right_shifted_matches = [(index,x) for index,x in enumerate(content_list) if index+1 < len(content_list) and content_list[index+1] == right_word_query_shift]\n",
    "\n",
    "        if len(left_shifted_match) == 1: \n",
    "            insert_index = left_shifted_match[0][0]+1\n",
    "            content_list.insert(insert_index, \"<REPLACE>\")\n",
    "            continue\n",
    "\n",
    "        if len(right_shifted_matches) == 1: \n",
    "            insert_index = right_shifted_matches[0][0]\n",
    "            content_list.insert(insert_index, \"<REPLACE>\")\n",
    "            continue\n",
    "\n",
    "        # insert street check routine\n",
    "\n",
    "        if len(left_matches) == 0 and len(right_matches) == 0:\n",
    "            print(\"NONE\", index)\n",
    "            print(att_list)\n",
    "            print(index_att_list)\n",
    "            print(content_list)\n",
    "            print(full_list)\n",
    "            #if second_try == False:\n",
    "                #set_replace_tokens(content_list, full_list, list(reversed(att_list)), list(reversed(index_att_list)), True)\n",
    "\n",
    "def next_is_street(index_att_list, current_index):\n",
    "    #print(len(index_att_list) > current_index and  index_att_list[current_index] == index_att_list[current_index] + 1)\n",
    "\n",
    "    if len(index_att_list) > current_index+1 and  index_att_list[current_index] + 1 == index_att_list[current_index+1]:\n",
    "        return True\n",
    "    else:\n",
    "        return False\n",
    "\n",
    "def get_street_length(index_att_list, current_index):\n",
    "    counter = 0\n",
    "    while len(index_att_list) > current_index+1 and  index_att_list[current_index] + 1 == index_att_list[current_index+1]:\n",
    "        counter += 1\n",
    "        current_index += 1\n",
    "    return counter\n",
    "\n"
   ]
  },
  {
   "cell_type": "code",
   "execution_count": 184,
   "metadata": {},
   "outputs": [],
   "source": [
    "def get_street_length(index_att_list, current_index):\n",
    "    counter = 0\n",
    "    #print(len(index_att_list) > current_index+1)\n",
    "    #print(index_att_list[current_index] + 1 == index_att_list[current_index+1])\n",
    "    while len(index_att_list) > current_index+1 and  index_att_list[current_index] + 1 == index_att_list[current_index+1]:\n",
    "        counter += 1\n",
    "        current_index += 1:\n",
    "            left_word_query = full_list[replace_index-1]\n",
    "            left_matches = [(index,x) for index,x in enumerate(content_list) if x == left_word_query]\n",
    "\n",
    "for x in  range( get_street_length([0,1,2,5],2)):\n",
    "    aa = [0,1,2,5]\n",
    "    #print(\"aa\",aa[4])\n",
    "    print(x)"
   ]
  },
  {
   "cell_type": "code",
   "execution_count": 209,
   "metadata": {},
   "outputs": [
    {
     "name": "stderr",
     "output_type": "stream",
     "text": [
      "100%|██████████| 1000/1000 [00:00<00:00, 49159.68it/s]\n",
      "100%|██████████| 500/500 [00:00<00:00, 54008.55it/s]\n",
      "100%|██████████| 500/500 [00:00<00:00, 44968.52it/s]\n"
     ]
    }
   ],
   "source": [
    "# Test changes here first\n",
    "process_file_v1(data_dir+\"/processed_files_with_bert_with_best_head/sentiment_test.txt\",data_dir+\"/processed_files_with_bert_with_best_head/delete_retrieve_edit_model/sentiment_test.txt\")\n",
    "process_file_v1(data_dir+\"/processed_files_with_bert_with_best_head/sentiment_test_1.txt\",data_dir+\"/processed_files_with_bert_with_best_head/delete_retrieve_edit_model/sentiment_test_1.txt\")\n",
    "process_file_v1(data_dir+\"/processed_files_with_bert_with_best_head/sentiment_test_0.txt\",data_dir+\"/processed_files_with_bert_with_best_head/delete_retrieve_edit_model/sentiment_test_0.txt\")"
   ]
  },
  {
   "cell_type": "code",
   "execution_count": 44,
   "metadata": {},
   "outputs": [],
   "source": [
    "'''Merge files'''\n",
    "# Create sentiment_train file before run!\n",
    "# Create sentiment_test file before run!\n",
    "# Create sentiment_dev file before run!\n",
    "\n",
    "filenames = [data_dir+\"/processed_files_with_bert_with_best_head/sentiment_train_1.txt\", data_dir+\"/processed_files_with_bert_with_best_head/sentiment_train_0.txt\"]\n",
    "with open(data_dir+\"/processed_files_with_bert_with_best_head/sentiment_train.txt\", 'w') as outfile:\n",
    "    for fname in filenames:\n",
    "        with open(fname) as infile:\n",
    "            for line in infile:\n",
    "                outfile.write(line)\n",
    "\n",
    "\n",
    "filenames = [data_dir+\"/processed_files_with_bert_with_best_head/sentiment_test_1.txt\", data_dir+\"/processed_files_with_bert_with_best_head/sentiment_test_0.txt\"]\n",
    "with open(data_dir+\"/processed_files_with_bert_with_best_head/sentiment_test.txt\", 'w') as outfile:\n",
    "    for fname in filenames:\n",
    "        with open(fname) as infile:\n",
    "            for line in infile:\n",
    "                outfile.write(line)\n",
    "\n",
    "filenames = [data_dir+\"/processed_files_with_bert_with_best_head/sentiment_dev_1.txt\", data_dir+\"/processed_files_with_bert_with_best_head/sentiment_dev_0.txt\"]\n",
    "with open(data_dir+\"/processed_files_with_bert_with_best_head/sentiment_dev.txt\", 'w') as outfile:\n",
    "    for fname in filenames:\n",
    "        with open(fname) as infile:\n",
    "            for line in infile:\n",
    "                outfile.write(line)"
   ]
  },
  {
   "cell_type": "code",
   "execution_count": 14,
   "metadata": {},
   "outputs": [
    {
     "name": "stderr",
     "output_type": "stream",
     "text": [
      "100%|██████████| 443259/443259 [00:01<00:00, 314534.16it/s]\n",
      "100%|██████████| 266041/266041 [00:00<00:00, 344643.63it/s]\n",
      "100%|██████████| 177218/177218 [00:00<00:00, 316493.76it/s]\n"
     ]
    }
   ],
   "source": [
    "\n",
    "process_file(data_dir+\"/processed_files_with_bert_with_best_head/sentiment_train.txt\",data_dir+\"/processed_files_with_bert_with_best_head/delete_retrieve_edit_model/sentiment_train_all_attrs.txt\")\n",
    "process_file(data_dir+\"/processed_files_with_bert_with_best_head/sentiment_train_1.txt\",data_dir+\"/processed_files_with_bert_with_best_head/delete_retrieve_edit_model/sentiment_train_1_all_attrs.txt\")\n",
    "process_file(data_dir+\"/processed_files_with_bert_with_best_head/sentiment_train_0.txt\",data_dir+\"/processed_files_with_bert_with_best_head/delete_retrieve_edit_model/sentiment_train_0_all_attrs.txt\")"
   ]
  },
  {
   "cell_type": "code",
   "execution_count": 12,
   "metadata": {},
   "outputs": [
    {
     "name": "stderr",
     "output_type": "stream",
     "text": [
      "100%|██████████| 1000/1000 [00:00<00:00, 142784.82it/s]\n",
      "100%|██████████| 500/500 [00:00<00:00, 265529.50it/s]\n",
      "100%|██████████| 500/500 [00:00<00:00, 269660.79it/s]\n"
     ]
    }
   ],
   "source": [
    "process_file(data_dir+\"/processed_files_with_bert_with_best_head/sentiment_test.txt\",data_dir+\"/processed_files_with_bert_with_best_head/delete_retrieve_edit_model/sentiment_test_all_attrs.txt\")\n",
    "process_file(data_dir+\"/processed_files_with_bert_with_best_head/sentiment_test_1.txt\",data_dir+\"/processed_files_with_bert_with_best_head/delete_retrieve_edit_model/sentiment_test_1_all_attrs.txt\")\n",
    "process_file(data_dir+\"/processed_files_with_bert_with_best_head/sentiment_test_0.txt\",data_dir+\"/processed_files_with_bert_with_best_head/delete_retrieve_edit_model/sentiment_test_0_all_attrs.txt\")"
   ]
  },
  {
   "cell_type": "code",
   "execution_count": null,
   "metadata": {},
   "outputs": [],
   "source": [
    "process_file(data_dir+\"/processed_files_with_bert_with_best_head/sentiment_dev.txt\",data_dir+\"/processed_files_with_bert_with_best_head/delete_retrieve_edit_model/sentiment_dev_all_attrs.txt\")\n",
    "process_file(data_dir+\"/processed_files_with_bert_with_best_head/sentiment_dev_0.txt\",data_dir+\"/processed_files_with_bert_with_best_head/delete_retrieve_edit_model/sentiment_dev_1_all_attrs.txt\")\n",
    "process_file(data_dir+\"/processed_files_with_bert_with_best_head/sentiment_dev_1.txt\",data_dir+\"/processed_files_with_bert_with_best_head/delete_retrieve_edit_model/sentiment_dev_0_all_attrs.txt\")"
   ]
  },
  {
   "cell_type": "code",
   "execution_count": 223,
   "metadata": {},
   "outputs": [
    {
     "name": "stderr",
     "output_type": "stream",
     "text": [
      "  3%|▎         | 12511/443259 [00:00<00:06, 62731.38it/s]"
     ]
    },
    {
     "name": "stdout",
     "output_type": "stream",
     "text": [
      "NONE 0\n",
      "['well', 'worth']\n",
      "[9, 10]\n",
      "['but', 'even', 'if', 'you', 'have', 'to', 'wait', 'it', \"'\", 'it', '.']\n",
      "['but', 'even', 'if', 'you', 'have', 'to', 'wait', 'it', \"'s\", 'well', 'worth', 'it', '.']\n"
     ]
    },
    {
     "name": "stderr",
     "output_type": "stream",
     "text": [
      " 10%|▉         | 43785/443259 [00:00<00:06, 61969.08it/s]"
     ]
    },
    {
     "name": "stdout",
     "output_type": "stream",
     "text": [
      "NONE 1\n",
      "['yes', 'well', 'worth']\n",
      "[0, 8, 9]\n",
      "['<REPLACE>', ',', 'it', \"'\", 's', 'pricey', 'but', 'it', \"'\", 's', 'it', '!']\n",
      "['yes', ',', 'it', \"'s\", 'pricey', 'but', 'it', \"'s\", 'well', 'worth', 'it', '!']\n"
     ]
    },
    {
     "name": "stderr",
     "output_type": "stream",
     "text": [
      " 14%|█▍        | 62692/443259 [00:01<00:06, 62600.83it/s]"
     ]
    },
    {
     "name": "stdout",
     "output_type": "stream",
     "text": [
      "NONE 1\n",
      "['good', 'very', 'good']\n",
      "[3, 5, 6]\n",
      "['these', 'guys', 'are', '<REPLACE>', '-', '-', '-', '-', 'at', 'what', 'they', 'do', '.']\n",
      "['these', 'guys', 'are', 'good', '--', 'very', 'good', '--', 'at', 'what', 'they', 'do', '.']\n",
      "NONE 0\n",
      "['definitely', 'worth']\n",
      "[10, 11]\n",
      "['expect', 'a', 'wait', 'for', 'a', 'table', ',', 'but', 'it', \"'\", 'it', '.']\n",
      "['expect', 'a', 'wait', 'for', 'a', 'table', ',', 'but', 'it', \"'s\", 'definitely', 'worth', 'it', '.']\n"
     ]
    },
    {
     "name": "stderr",
     "output_type": "stream",
     "text": [
      " 23%|██▎       | 100753/443259 [00:01<00:05, 62935.56it/s]"
     ]
    },
    {
     "name": "stdout",
     "output_type": "stream",
     "text": [
      "NONE 0\n",
      "['fit', 'fine', 'bought']\n",
      "[1, 2, 6]\n",
      "['t', '-', 'shirts', '-', 'my', 'husband', 'a', 'tool', 't', '-', 'shirt', '.']\n",
      "['t-shirts', 'fit', 'fine', '-', 'my', 'husband', 'bought', 'a', 'tool', 't-shirt', '.']\n",
      "NONE 1\n",
      "['good', 'nello', 'good']\n",
      "[4, 8, 10]\n",
      "['it', \"'\", 's', 'not', 'just', '<REPLACE>', ',', 'it', \"'\", 's', \"'\", 's', '!']\n",
      "['it', \"'s\", 'not', 'just', 'good', ',', 'it', \"'s\", 'nello', \"'s\", 'good', '!']\n"
     ]
    },
    {
     "name": "stderr",
     "output_type": "stream",
     "text": [
      " 27%|██▋       | 119615/443259 [00:01<00:05, 62626.71it/s]"
     ]
    },
    {
     "name": "stdout",
     "output_type": "stream",
     "text": [
      "NONE 0\n",
      "['_num_', 'breakfast', 'best']\n",
      "[1, 2, 10]\n",
      "['_', 'num', '_', ',', 'country', 'fried', 'steak', ',', 'is', 'the', '!']\n",
      "['#', '_num_', 'breakfast', ',', 'country', 'fried', 'steak', ',', 'is', 'the', 'best', '!']\n"
     ]
    },
    {
     "name": "stderr",
     "output_type": "stream",
     "text": [
      " 37%|███▋      | 163756/443259 [00:02<00:04, 62930.18it/s]"
     ]
    },
    {
     "name": "stdout",
     "output_type": "stream",
     "text": [
      "NONE 0\n",
      "['_num_', '...', 'wow']\n",
      "[1, 2, 3]\n",
      "['_', 'num', '_', '.', '.', '.', '!']\n",
      "['$', '_num_', '...', 'wow', '!']\n",
      "NONE 1\n",
      "['_num_', 'well', 'worth']\n",
      "[2, 5, 6]\n",
      "['for', '$', '<REPLACE>', '_', 'num', '_', 'it', \"'\", 'it', '.']\n",
      "['for', '$', '_num_', 'it', \"'s\", 'well', 'worth', 'it', '.']\n"
     ]
    },
    {
     "name": "stderr",
     "output_type": "stream",
     "text": [
      " 41%|████      | 182775/443259 [00:02<00:04, 61800.19it/s]"
     ]
    },
    {
     "name": "stdout",
     "output_type": "stream",
     "text": [
      "NONE 1\n",
      "['yes', 'well', 'worth']\n",
      "[0, 11, 12]\n",
      "['<REPLACE>', ',', 'there', \"'\", 's', 'almost', 'always', 'a', 'wait', 'but', 'it', \"'\", 's', 'it', '.']\n",
      "['yes', ',', 'there', \"'s\", 'almost', 'always', 'a', 'wait', 'but', 'it', \"'s\", 'well', 'worth', 'it', '.']\n"
     ]
    },
    {
     "name": "stderr",
     "output_type": "stream",
     "text": [
      " 46%|████▌     | 201767/443259 [00:03<00:03, 62827.12it/s]"
     ]
    },
    {
     "name": "stdout",
     "output_type": "stream",
     "text": [
      "NONE 0\n",
      "['visitor', 'here', '_num_']\n",
      "[1, 2, 3]\n",
      "['out', '-', 'of', '-', '_', 'num', '_', 'weeks', 'ago', '.']\n",
      "['out-of-town', 'visitor', 'here', '_num_', 'weeks', 'ago', '.']\n"
     ]
    },
    {
     "name": "stderr",
     "output_type": "stream",
     "text": [
      " 55%|█████▌    | 245219/443259 [00:03<00:03, 60994.19it/s]"
     ]
    },
    {
     "name": "stdout",
     "output_type": "stream",
     "text": [
      "NONE 0\n",
      "['always', 'worth']\n",
      "[3, 4]\n",
      "['but', 'it', \"'\", 'it', 'to', 'me', 'in', 'the', 'end', '.']\n",
      "['but', 'it', \"'s\", 'always', 'worth', 'it', 'to', 'me', 'in', 'the', 'end', '.']\n",
      "NONE 0\n",
      "['definitely', 'worth']\n",
      "[9, 10]\n",
      "['there', 'is', 'a', 'wait', 'sometimes', ',', 'but', 'it', \"'\", 'it', '!']\n",
      "['there', 'is', 'a', 'wait', 'sometimes', ',', 'but', 'it', \"'s\", 'definitely', 'worth', 'it', '!']\n",
      "NONE 0\n",
      "['definitely', 'staying', 'here']\n",
      "[2, 3, 4]\n",
      "['i', \"'\", 'm', 'the', 'next', 'time', 'i', \"'\", 'm', 'in', 'madison', '!']\n",
      "['i', \"'m\", 'definitely', 'staying', 'here', 'the', 'next', 'time', 'i', \"'m\", 'in', 'madison', '!']\n"
     ]
    },
    {
     "name": "stderr",
     "output_type": "stream",
     "text": [
      " 61%|██████    | 270126/443259 [00:04<00:02, 59745.94it/s]"
     ]
    },
    {
     "name": "stdout",
     "output_type": "stream",
     "text": [
      "NONE 0\n",
      "['well', 'worth']\n",
      "[10, 11]\n",
      "['you', 'get', 'what', 'you', 'pay', 'for', 'here', 'and', 'it', \"'\", 'it', '.']\n",
      "['you', 'get', 'what', 'you', 'pay', 'for', 'here', 'and', 'it', \"'s\", 'well', 'worth', 'it', '.']\n",
      "NONE 1\n",
      "['should', 'take', '_num_', 'minutes']\n",
      "[1, 3, 4, 5]\n",
      "['it', '<REPLACE>', 'n', \"'\", 't', '_', 'num', '_', 'to', 'get', 'a', 'dozen', 'bagels', '.']\n",
      "['it', 'should', \"n't\", 'take', '_num_', 'minutes', 'to', 'get', 'a', 'dozen', 'bagels', '.']\n",
      "NONE 0\n",
      "['bad', '...', 'anything', 'special']\n",
      "[4, 5, 8, 9]\n",
      "['my', 'latte', 'was', 'n', \"'\", 't', '.', '.', '.', 'was', 'n', \"'\", 't', 'either', '.']\n",
      "['my', 'latte', 'was', \"n't\", 'bad', '...', 'was', \"n't\", 'anything', 'special', 'either', '.']\n"
     ]
    },
    {
     "name": "stderr",
     "output_type": "stream",
     "text": [
      " 64%|██████▎   | 281925/443259 [00:04<00:02, 57079.08it/s]"
     ]
    },
    {
     "name": "stdout",
     "output_type": "stream",
     "text": [
      "NONE 1\n",
      "['_num_', '_num_', 'weeks', 'pregnant']\n",
      "[3, 11, 12, 13]\n",
      "['i', 'had', 'my', '<REPLACE>', '_', 'num', '_', 'year', 'old', 'with', 'me', 'and', 'i', \"'\", '_', 'num', '_', '.']\n",
      "['i', 'had', 'my', '_num_', 'year', 'old', 'with', 'me', 'and', 'i', \"'m\", '_num_', 'weeks', 'pregnant', '.']\n",
      "NONE 0\n",
      "['probably', 'say', 'no']\n",
      "[11, 12, 13]\n",
      "['if', 'you', 'asked', 'me', 'if', 'i', \"'\", 'd', 'return', ',', 'i', \"'\", 'd', '.']\n",
      "['if', 'you', 'asked', 'me', 'if', 'i', \"'d\", 'return', ',', 'i', \"'d\", 'probably', 'say', 'no', '.']\n"
     ]
    },
    {
     "name": "stderr",
     "output_type": "stream",
     "text": [
      " 67%|██████▋   | 298748/443259 [00:04<00:02, 53896.30it/s]"
     ]
    },
    {
     "name": "stdout",
     "output_type": "stream",
     "text": [
      "NONE 0\n",
      "['maintenance', 'did']\n",
      "[1, 2]\n",
      "['n', \"'\", 't', 'know', 'i', 'was', 'in', 'there', ')', '.']\n",
      "['(', 'maintenance', 'did', \"n't\", 'know', 'i', 'was', 'in', 'there', ')', '.']\n",
      "NONE 1\n",
      "['do', 'deserve', '_num_', 'star']\n",
      "[1, 3, 4, 5]\n",
      "['they', '<REPLACE>', 'n', \"'\", 't', '_', 'num', '_', '!']\n",
      "['they', 'do', \"n't\", 'deserve', '_num_', 'star', '!']\n",
      "NONE 0\n",
      "['amazingly', 'impressed']\n",
      "[3, 4]\n",
      "['i', 'was', 'n', \"'\", ',', 'but', 'i', 'was', 'n', \"'\", 't', 'disappointed', ',', 'either', '.']\n",
      "['i', 'was', \"n't\", 'amazingly', 'impressed', ',', 'but', 'i', 'was', \"n't\", 'disappointed', ',', 'either', '.']\n",
      "NONE 1\n",
      "['do', 'rent', 'unit', '_num_']\n",
      "[0, 2, 3, 4]\n",
      "['<REPLACE>', 'n', \"'\", 't', '_', 'num', '_', '.']\n",
      "['do', \"n't\", 'rent', 'unit', '_num_', '.']\n",
      "NONE 0\n",
      "['mistake', 'number', '_num_']\n",
      "[1, 2, 3]\n",
      "['_', 'num', '_', 'if', 'anyone', 'is', 'counting', ')', '.']\n",
      "['(', 'mistake', 'number', '_num_', 'if', 'anyone', 'is', 'counting', ')', '.']\n"
     ]
    },
    {
     "name": "stderr",
     "output_type": "stream",
     "text": [
      " 71%|███████   | 315330/443259 [00:05<00:02, 54644.89it/s]"
     ]
    },
    {
     "name": "stdout",
     "output_type": "stream",
     "text": [
      "NONE 1\n",
      "['do', 'mean', 'med']\n",
      "[1, 3, 4]\n",
      "['i', '<REPLACE>', 'n', \"'\", 't', 'rare', 'or', 'rare', '.']\n",
      "['i', 'do', \"n't\", 'mean', 'med', 'rare', 'or', 'rare', '.']\n",
      "NONE 1\n",
      "['could', 'each', 'much']\n",
      "[1, 3, 4]\n",
      "['i', '<REPLACE>', 'n', \"'\", 't', 'of', 'any', 'of', 'this', '.']\n",
      "['i', 'could', \"n't\", 'each', 'much', 'of', 'any', 'of', 'this', '.']\n",
      "NONE 1\n",
      "['purchased', '_num_', 'pot', '_num_']\n",
      "[0, 2, 3, 4]\n",
      "['<REPLACE>', '_', 'num', '_', '_', 'num', '_', 'weeks', 'ago', '.']\n",
      "['purchased', '$', '_num_', 'pot', '_num_', 'weeks', 'ago', '.']\n",
      "NONE 0\n",
      "['actual', 'repair', '_num_']\n",
      "[1, 2, 6]\n",
      "['cost', 'around', '$', '_', 'num', '_', ')', '.']\n",
      "['(', 'actual', 'repair', 'cost', 'around', '$', '_num_', ')', '.']\n",
      "NONE 1\n",
      "['do', 'suggest', 'coffee']\n",
      "[0, 2, 3]\n",
      "['<REPLACE>', 'n', \"'\", 't', 'or', 'ignore', 'them', 'or', 'not', 'offer', 'last', 'call', '.']\n",
      "['do', \"n't\", 'suggest', 'coffee', 'or', 'ignore', 'them', 'or', 'not', 'offer', 'last', 'call', '.']\n"
     ]
    },
    {
     "name": "stderr",
     "output_type": "stream",
     "text": [
      " 74%|███████▎  | 326413/443259 [00:05<00:02, 55081.64it/s]"
     ]
    },
    {
     "name": "stdout",
     "output_type": "stream",
     "text": [
      "NONE 0\n",
      "['_num_', 'resort', 'fee']\n",
      "[1, 2, 3]\n",
      "['_', 'num', '_', 'per', 'night', '.']\n",
      "['$', '_num_', 'resort', 'fee', 'per', 'night', '.']\n",
      "NONE 0\n",
      "['_num_', 'dollar', '_num_', 'alcohol']\n",
      "[1, 2, 6, 8]\n",
      "['_', 'num', '_', 'for', 'dinner', 'for', '_', 'num', '_', 'without', '.']\n",
      "['$', '_num_', 'dollar', 'for', 'dinner', 'for', '_num_', 'without', 'alcohol', '.']\n",
      "NONE 0\n",
      "['_num_', 'spicy', 'octopus']\n",
      "[1, 2, 3]\n",
      "['_', 'num', '_', 'was', 'like', 'chewy', 'rubber', 'and', 'totally', 'inedible', '.']\n",
      "['$', '_num_', 'spicy', 'octopus', 'was', 'like', 'chewy', 'rubber', 'and', 'totally', 'inedible', '.']\n"
     ]
    },
    {
     "name": "stderr",
     "output_type": "stream",
     "text": [
      " 76%|███████▌  | 337429/443259 [00:05<00:01, 54493.80it/s]"
     ]
    },
    {
     "name": "stdout",
     "output_type": "stream",
     "text": [
      "NONE 0\n",
      "['busy', 'nor', 'emergency']\n",
      "[3, 4, 8]\n",
      "['it', 'was', 'n', \"'\", 't', 'was', 'there', 'an', 'or', 'anything', '.']\n",
      "['it', 'was', \"n't\", 'busy', 'nor', 'was', 'there', 'an', 'emergency', 'or', 'anything', '.']\n",
      "NONE 1\n",
      "['do', 'switch']\n",
      "[0, 2]\n",
      "['<REPLACE>', 'n', \"'\", 't']\n",
      "['do', \"n't\", 'switch']\n"
     ]
    },
    {
     "name": "stderr",
     "output_type": "stream",
     "text": [
      " 80%|███████▉  | 353746/443259 [00:05<00:01, 54110.71it/s]"
     ]
    },
    {
     "name": "stdout",
     "output_type": "stream",
     "text": [
      "NONE 0\n",
      "['craving', 'ra']\n",
      "[5, 6]\n",
      "['guess', 'next', 'time', 'i', \"'\", 'i', 'will', 'be', 'driving', 'to', 'old', 'town', '.']\n",
      "['guess', 'next', 'time', 'i', \"'m\", 'craving', 'ra', 'i', 'will', 'be', 'driving', 'to', 'old', 'town', '.']\n",
      "NONE 0\n",
      "['_num_', '1/2', 'stars']\n",
      "[1, 2, 3]\n",
      "['_', 'num', '1', '/', '2', ')', '.']\n",
      "['(', '_num_', '1/2', 'stars', ')', '.']\n"
     ]
    },
    {
     "name": "stderr",
     "output_type": "stream",
     "text": [
      " 83%|████████▎ | 370073/443259 [00:06<00:01, 54223.67it/s]"
     ]
    },
    {
     "name": "stdout",
     "output_type": "stream",
     "text": [
      "NONE 0\n",
      "['out', '_num_']\n",
      "[2, 4]\n",
      "['i', \"'\", '_', 'num', '_', 'and', 'i', 'have', 'no', 'gift', '.']\n",
      "['i', \"'m\", 'out', '$', '_num_', 'and', 'i', 'have', 'no', 'gift', '.']\n",
      "NONE 1\n",
      "['do', 'use', 'david']\n",
      "[0, 2, 3]\n",
      "['<REPLACE>', 'n', \"'\", 't', \"'\", 's', 'bridal', '.']\n",
      "['do', \"n't\", 'use', 'david', \"'s\", 'bridal', '.']\n",
      "NONE 1\n",
      "['should', 'take', '_num_', 'min']\n",
      "[1, 3, 4, 5]\n",
      "['it', '<REPLACE>', 'n', \"'\", 't', '_', 'num', '_', 'for', 'pancakes', 'and', 'eggs', '.']\n",
      "['it', 'should', \"n't\", 'take', '_num_', 'min', 'for', 'pancakes', 'and', 'eggs', '.']\n"
     ]
    },
    {
     "name": "stderr",
     "output_type": "stream",
     "text": [
      " 86%|████████▌ | 380982/443259 [00:06<00:01, 54112.73it/s]"
     ]
    },
    {
     "name": "stdout",
     "output_type": "stream",
     "text": [
      "NONE 1\n",
      "['should', 'take', '_num_', 'minutes']\n",
      "[1, 3, 4, 5]\n",
      "['it', '<REPLACE>', 'n', \"'\", 't', '_', 'num', '_', 'to', 'order', 'and', 'pay', 'for', 'one', 'bagel', '.']\n",
      "['it', 'should', \"n't\", 'take', '_num_', 'minutes', 'to', 'order', 'and', 'pay', 'for', 'one', 'bagel', '.']\n",
      "NONE 1\n",
      "['do', 'eat', 'here']\n",
      "[1, 3, 4]\n",
      "['i', '<REPLACE>', 'n', \"'\", 't', 'by', 'choice', ',', 'only', 'by', 'the', 'choice', 'of', 'others', '.']\n",
      "['i', 'do', \"n't\", 'eat', 'here', 'by', 'choice', ',', 'only', 'by', 'the', 'choice', 'of', 'others', '.']\n"
     ]
    },
    {
     "name": "stderr",
     "output_type": "stream",
     "text": [
      " 90%|████████▉ | 397360/443259 [00:06<00:00, 54169.80it/s]"
     ]
    },
    {
     "name": "stdout",
     "output_type": "stream",
     "text": [
      "NONE 0\n",
      "['_num_', 's.', 'valley']\n",
      "[1, 2, 3]\n",
      "['_', 'num', '_', '.', 'view', ',', 'lv', ')', '.']\n",
      "['(', '_num_', 's.', 'valley', 'view', ',', 'lv', ')', '.']\n",
      "NONE 1\n",
      "['ca', 'give', '_num_', 'stars']\n",
      "[0, 2, 3, 4]\n",
      "['<REPLACE>', 'n', \"'\", 't', '_', 'num', '_', '.']\n",
      "['ca', \"n't\", 'give', '_num_', 'stars', '.']\n"
     ]
    },
    {
     "name": "stderr",
     "output_type": "stream",
     "text": [
      " 92%|█████████▏| 408278/443259 [00:06<00:00, 54406.84it/s]"
     ]
    },
    {
     "name": "stdout",
     "output_type": "stream",
     "text": [
      "NONE 1\n",
      "['do', 'recommend', '...']\n",
      "[0, 2, 3]\n",
      "['<REPLACE>', 'n', \"'\", 't', '.', '.', '.', '.']\n",
      "['do', \"n't\", 'recommend', '...', '.']\n",
      "NONE 1\n",
      "['service', 'and/or', 'cranky', 'never']\n",
      "[1, 4, 5, 9]\n",
      "['the', '<REPLACE>', 'was', 'non', '-', 'existent', 'and', '/', 'or', '-', '-', 'i', 'was', 'asked', 'for', 'a', 'refill', '.']\n",
      "['the', 'service', 'was', 'non-existent', 'and/or', 'cranky', '--', 'i', 'was', 'never', 'asked', 'for', 'a', 'refill', '.']\n",
      "NONE 0\n",
      "['_num_', 'years', 'old', \"'ve\"]\n",
      "[2, 3, 4, 8]\n",
      "['i', \"'\", '_', 'num', '_', ',', 'so', 'i', \"'\", 've', 'had', 'my', 'share', 'of', 'them', '.']\n",
      "['i', \"'m\", '_num_', 'years', 'old', ',', 'so', 'i', \"'ve\", 'had', 'my', 'share', 'of', 'them', '.']\n",
      "NONE 0\n",
      "['_num_', 'bucks', 'lunch', '_num_']\n",
      "[1, 2, 4, 6]\n",
      "['_', 'num', '_', 'for', 'for', '_', 'num', '_', '.']\n",
      "['$', '_num_', 'bucks', 'for', 'lunch', 'for', '_num_', '.']\n"
     ]
    },
    {
     "name": "stderr",
     "output_type": "stream",
     "text": [
      " 95%|█████████▍| 419279/443259 [00:07<00:00, 54611.53it/s]"
     ]
    },
    {
     "name": "stdout",
     "output_type": "stream",
     "text": [
      "NONE 1\n",
      "['tea', 'hunger', 'cravings']\n",
      "[1, 4, 5]\n",
      "['for', '<REPLACE>', ',', 'late', '-', 'night', ',', 'dinner', ',', 'lunch', ',', 'dessert', '.']\n",
      "['for', 'tea', ',', 'late-night', 'hunger', 'cravings', ',', 'dinner', ',', 'lunch', ',', 'dessert', '.']\n",
      "NONE 1\n",
      "['did', 'taste', 'horrible', '...']\n",
      "[1, 3, 4, 5]\n",
      "['they', '<REPLACE>', 'n', \"'\", 't', '.', '.', '.', 'but', 'you', 'could', 'n', \"'\", 't', 'dip', 'them', 'into', 'anything', '.']\n",
      "['they', 'did', \"n't\", 'taste', 'horrible', '...', 'but', 'you', 'could', \"n't\", 'dip', 'them', 'into', 'anything', '.']\n"
     ]
    },
    {
     "name": "stderr",
     "output_type": "stream",
     "text": [
      "100%|█████████▉| 441398/443259 [00:07<00:00, 55185.24it/s]"
     ]
    },
    {
     "name": "stdout",
     "output_type": "stream",
     "text": [
      "NONE 1\n",
      "['do', 'waste', '_num_', 'months']\n",
      "[0, 2, 3, 4]\n",
      "['<REPLACE>', 'n', \"'\", 't', '_', 'num', '_', 'waiting', 'on', 'broken', 'promises', 'and', 'hard', 'luck', 'stories', '.']\n",
      "['do', \"n't\", 'waste', '_num_', 'months', 'waiting', 'on', 'broken', 'promises', 'and', 'hard', 'luck', 'stories', '.']\n",
      "NONE 0\n",
      "['_num_', 'gold', 'club']\n",
      "[1, 2, 3]\n",
      "['_', 'num', '_', 'member', 'with', 'a', 'reservation', '?']\n",
      "['#', '_num_', 'gold', 'club', 'member', 'with', 'a', 'reservation', '?']\n"
     ]
    },
    {
     "name": "stderr",
     "output_type": "stream",
     "text": [
      "100%|██████████| 443259/443259 [00:07<00:00, 58628.92it/s]\n"
     ]
    },
    {
     "name": "stdout",
     "output_type": "stream",
     "text": [
      "NONE 0\n",
      "['_num_', 'n.', '_num_', 'rd']\n",
      "[1, 2, 3, 4]\n",
      "['_', 'num', '_', '.', '_', 'num', '_', '.']\n",
      "['@', '_num_', 'n.', '_num_', 'rd', '.']\n",
      "NONE 3\n",
      "['discovered', 'pads', '_num_', 'x', '_num_']\n",
      "[4, 6, 8, 10, 11]\n",
      "['that', \"'\", 's', 'where', 'i', '<REPLACE>', 'the', '<REPLACE>', 'were', '<REPLACE>', '_', 'num', '_', \"'\", \"'\", '_', 'num', '_', \"'\", \"'\", '.']\n",
      "['that', \"'s\", 'where', 'i', 'discovered', 'the', 'pads', 'were', '_num_', \"''\", 'x', '_num_', \"''\", '.']\n"
     ]
    },
    {
     "name": "stderr",
     "output_type": "stream",
     "text": [
      "  2%|▏         | 6086/266041 [00:00<00:04, 60846.42it/s]"
     ]
    },
    {
     "name": "stdout",
     "output_type": "stream",
     "text": [
      "NONE 0\n",
      "['well', 'worth']\n",
      "[9, 10]\n",
      "['but', 'even', 'if', 'you', 'have', 'to', 'wait', 'it', \"'\", 'it', '.']\n",
      "['but', 'even', 'if', 'you', 'have', 'to', 'wait', 'it', \"'s\", 'well', 'worth', 'it', '.']\n"
     ]
    },
    {
     "name": "stderr",
     "output_type": "stream",
     "text": [
      " 16%|█▋        | 43609/266041 [00:00<00:03, 62333.28it/s]"
     ]
    },
    {
     "name": "stdout",
     "output_type": "stream",
     "text": [
      "NONE 1\n",
      "['yes', 'well', 'worth']\n",
      "[0, 8, 9]\n",
      "['<REPLACE>', ',', 'it', \"'\", 's', 'pricey', 'but', 'it', \"'\", 's', 'it', '!']\n",
      "['yes', ',', 'it', \"'s\", 'pricey', 'but', 'it', \"'s\", 'well', 'worth', 'it', '!']\n"
     ]
    },
    {
     "name": "stderr",
     "output_type": "stream",
     "text": [
      " 23%|██▎       | 62071/266041 [00:01<00:03, 60511.99it/s]"
     ]
    },
    {
     "name": "stdout",
     "output_type": "stream",
     "text": [
      "NONE 1\n",
      "['good', 'very', 'good']\n",
      "[3, 5, 6]\n",
      "['these', 'guys', 'are', '<REPLACE>', '-', '-', '-', '-', 'at', 'what', 'they', 'do', '.']\n",
      "['these', 'guys', 'are', 'good', '--', 'very', 'good', '--', 'at', 'what', 'they', 'do', '.']\n",
      "NONE 0\n",
      "['definitely', 'worth']\n",
      "[10, 11]\n",
      "['expect', 'a', 'wait', 'for', 'a', 'table', ',', 'but', 'it', \"'\", 'it', '.']\n",
      "['expect', 'a', 'wait', 'for', 'a', 'table', ',', 'but', 'it', \"'s\", 'definitely', 'worth', 'it', '.']\n"
     ]
    },
    {
     "name": "stderr",
     "output_type": "stream",
     "text": [
      " 37%|███▋      | 99388/266041 [00:01<00:02, 61014.53it/s]"
     ]
    },
    {
     "name": "stdout",
     "output_type": "stream",
     "text": [
      "NONE 0\n",
      "['fit', 'fine', 'bought']\n",
      "[1, 2, 6]\n",
      "['t', '-', 'shirts', '-', 'my', 'husband', 'a', 'tool', 't', '-', 'shirt', '.']\n",
      "['t-shirts', 'fit', 'fine', '-', 'my', 'husband', 'bought', 'a', 'tool', 't-shirt', '.']\n",
      "NONE 1\n",
      "['good', 'nello', 'good']\n",
      "[4, 8, 10]\n",
      "['it', \"'\", 's', 'not', 'just', '<REPLACE>', ',', 'it', \"'\", 's', \"'\", 's', '!']\n",
      "['it', \"'s\", 'not', 'just', 'good', ',', 'it', \"'s\", 'nello', \"'s\", 'good', '!']\n"
     ]
    },
    {
     "name": "stderr",
     "output_type": "stream",
     "text": [
      " 44%|████▍     | 118038/266041 [00:01<00:02, 61560.36it/s]"
     ]
    },
    {
     "name": "stdout",
     "output_type": "stream",
     "text": [
      "NONE 0\n",
      "['_num_', 'breakfast', 'best']\n",
      "[1, 2, 10]\n",
      "['_', 'num', '_', ',', 'country', 'fried', 'steak', ',', 'is', 'the', '!']\n",
      "['#', '_num_', 'breakfast', ',', 'country', 'fried', 'steak', ',', 'is', 'the', 'best', '!']\n"
     ]
    },
    {
     "name": "stderr",
     "output_type": "stream",
     "text": [
      " 61%|██████    | 162685/266041 [00:02<00:01, 63738.43it/s]"
     ]
    },
    {
     "name": "stdout",
     "output_type": "stream",
     "text": [
      "NONE 0\n",
      "['_num_', '...', 'wow']\n",
      "[1, 2, 3]\n",
      "['_', 'num', '_', '.', '.', '.', '!']\n",
      "['$', '_num_', '...', 'wow', '!']\n",
      "NONE 1\n",
      "['_num_', 'well', 'worth']\n",
      "[2, 5, 6]\n",
      "['for', '$', '<REPLACE>', '_', 'num', '_', 'it', \"'\", 'it', '.']\n",
      "['for', '$', '_num_', 'it', \"'s\", 'well', 'worth', 'it', '.']\n"
     ]
    },
    {
     "name": "stderr",
     "output_type": "stream",
     "text": [
      " 71%|███████   | 188385/266041 [00:03<00:01, 64046.12it/s]"
     ]
    },
    {
     "name": "stdout",
     "output_type": "stream",
     "text": [
      "NONE 1\n",
      "['yes', 'well', 'worth']\n",
      "[0, 11, 12]\n",
      "['<REPLACE>', ',', 'there', \"'\", 's', 'almost', 'always', 'a', 'wait', 'but', 'it', \"'\", 's', 'it', '.']\n",
      "['yes', ',', 'there', \"'s\", 'almost', 'always', 'a', 'wait', 'but', 'it', \"'s\", 'well', 'worth', 'it', '.']\n"
     ]
    },
    {
     "name": "stderr",
     "output_type": "stream",
     "text": [
      " 76%|███████▌  | 201318/266041 [00:03<00:01, 64369.36it/s]"
     ]
    },
    {
     "name": "stdout",
     "output_type": "stream",
     "text": [
      "NONE 0\n",
      "['visitor', 'here', '_num_']\n",
      "[1, 2, 3]\n",
      "['out', '-', 'of', '-', '_', 'num', '_', 'weeks', 'ago', '.']\n",
      "['out-of-town', 'visitor', 'here', '_num_', 'weeks', 'ago', '.']\n"
     ]
    },
    {
     "name": "stderr",
     "output_type": "stream",
     "text": [
      " 92%|█████████▏| 245922/266041 [00:03<00:00, 62871.73it/s]"
     ]
    },
    {
     "name": "stdout",
     "output_type": "stream",
     "text": [
      "NONE 0\n",
      "['always', 'worth']\n",
      "[3, 4]\n",
      "['but', 'it', \"'\", 'it', 'to', 'me', 'in', 'the', 'end', '.']\n",
      "['but', 'it', \"'s\", 'always', 'worth', 'it', 'to', 'me', 'in', 'the', 'end', '.']\n",
      "NONE 0\n",
      "['definitely', 'worth']\n",
      "[9, 10]\n",
      "['there', 'is', 'a', 'wait', 'sometimes', ',', 'but', 'it', \"'\", 'it', '!']\n",
      "['there', 'is', 'a', 'wait', 'sometimes', ',', 'but', 'it', \"'s\", 'definitely', 'worth', 'it', '!']\n",
      "NONE 0\n",
      "['definitely', 'staying', 'here']\n",
      "[2, 3, 4]\n",
      "['i', \"'\", 'm', 'the', 'next', 'time', 'i', \"'\", 'm', 'in', 'madison', '!']\n",
      "['i', \"'m\", 'definitely', 'staying', 'here', 'the', 'next', 'time', 'i', \"'m\", 'in', 'madison', '!']\n"
     ]
    },
    {
     "name": "stderr",
     "output_type": "stream",
     "text": [
      "100%|██████████| 266041/266041 [00:04<00:00, 62274.92it/s]\n"
     ]
    },
    {
     "name": "stdout",
     "output_type": "stream",
     "text": [
      "NONE 0\n",
      "['well', 'worth']\n",
      "[10, 11]\n",
      "['you', 'get', 'what', 'you', 'pay', 'for', 'here', 'and', 'it', \"'\", 'it', '.']\n",
      "['you', 'get', 'what', 'you', 'pay', 'for', 'here', 'and', 'it', \"'s\", 'well', 'worth', 'it', '.']\n"
     ]
    },
    {
     "name": "stderr",
     "output_type": "stream",
     "text": [
      "  0%|          | 0/177218 [00:00<?, ?it/s]"
     ]
    },
    {
     "name": "stdout",
     "output_type": "stream",
     "text": [
      "NONE 1\n",
      "['should', 'take', '_num_', 'minutes']\n",
      "[1, 3, 4, 5]\n",
      "['it', '<REPLACE>', 'n', \"'\", 't', '_', 'num', '_', 'to', 'get', 'a', 'dozen', 'bagels', '.']\n",
      "['it', 'should', \"n't\", 'take', '_num_', 'minutes', 'to', 'get', 'a', 'dozen', 'bagels', '.']\n"
     ]
    },
    {
     "name": "stderr",
     "output_type": "stream",
     "text": [
      "  6%|▌         | 10664/177218 [00:00<00:03, 52626.15it/s]"
     ]
    },
    {
     "name": "stdout",
     "output_type": "stream",
     "text": [
      "NONE 0\n",
      "['bad', '...', 'anything', 'special']\n",
      "[4, 5, 8, 9]\n",
      "['my', 'latte', 'was', 'n', \"'\", 't', '.', '.', '.', 'was', 'n', \"'\", 't', 'either', '.']\n",
      "['my', 'latte', 'was', \"n't\", 'bad', '...', 'was', \"n't\", 'anything', 'special', 'either', '.']\n",
      "NONE 1\n",
      "['_num_', '_num_', 'weeks', 'pregnant']\n",
      "[3, 11, 12, 13]\n",
      "['i', 'had', 'my', '<REPLACE>', '_', 'num', '_', 'year', 'old', 'with', 'me', 'and', 'i', \"'\", '_', 'num', '_', '.']\n",
      "['i', 'had', 'my', '_num_', 'year', 'old', 'with', 'me', 'and', 'i', \"'m\", '_num_', 'weeks', 'pregnant', '.']\n"
     ]
    },
    {
     "name": "stderr",
     "output_type": "stream",
     "text": [
      " 12%|█▏        | 20977/177218 [00:00<00:03, 47927.76it/s]"
     ]
    },
    {
     "name": "stdout",
     "output_type": "stream",
     "text": [
      "NONE 0\n",
      "['probably', 'say', 'no']\n",
      "[11, 12, 13]\n",
      "['if', 'you', 'asked', 'me', 'if', 'i', \"'\", 'd', 'return', ',', 'i', \"'\", 'd', '.']\n",
      "['if', 'you', 'asked', 'me', 'if', 'i', \"'d\", 'return', ',', 'i', \"'d\", 'probably', 'say', 'no', '.']\n"
     ]
    },
    {
     "name": "stderr",
     "output_type": "stream",
     "text": [
      " 21%|██        | 36489/177218 [00:00<00:02, 50426.12it/s]"
     ]
    },
    {
     "name": "stdout",
     "output_type": "stream",
     "text": [
      "NONE 0\n",
      "['maintenance', 'did']\n",
      "[1, 2]\n",
      "['n', \"'\", 't', 'know', 'i', 'was', 'in', 'there', ')', '.']\n",
      "['(', 'maintenance', 'did', \"n't\", 'know', 'i', 'was', 'in', 'there', ')', '.']\n",
      "NONE 1\n",
      "['do', 'deserve', '_num_', 'star']\n",
      "[1, 3, 4, 5]\n",
      "['they', '<REPLACE>', 'n', \"'\", 't', '_', 'num', '_', '!']\n",
      "['they', 'do', \"n't\", 'deserve', '_num_', 'star', '!']\n",
      "NONE 0\n",
      "['amazingly', 'impressed']\n",
      "[3, 4]\n",
      "['i', 'was', 'n', \"'\", ',', 'but', 'i', 'was', 'n', \"'\", 't', 'disappointed', ',', 'either', '.']\n",
      "['i', 'was', \"n't\", 'amazingly', 'impressed', ',', 'but', 'i', 'was', \"n't\", 'disappointed', ',', 'either', '.']\n",
      "NONE 1\n",
      "['do', 'rent', 'unit', '_num_']\n",
      "[0, 2, 3, 4]\n",
      "['<REPLACE>', 'n', \"'\", 't', '_', 'num', '_', '.']\n",
      "['do', \"n't\", 'rent', 'unit', '_num_', '.']\n",
      "NONE 0\n",
      "['mistake', 'number', '_num_']\n",
      "[1, 2, 3]\n",
      "['_', 'num', '_', 'if', 'anyone', 'is', 'counting', ')', '.']\n",
      "['(', 'mistake', 'number', '_num_', 'if', 'anyone', 'is', 'counting', ')', '.']\n"
     ]
    },
    {
     "name": "stderr",
     "output_type": "stream",
     "text": [
      " 26%|██▋       | 46648/177218 [00:00<00:02, 50212.54it/s]"
     ]
    },
    {
     "name": "stdout",
     "output_type": "stream",
     "text": [
      "NONE 1\n",
      "['do', 'mean', 'med']\n",
      "[1, 3, 4]\n",
      "['i', '<REPLACE>', 'n', \"'\", 't', 'rare', 'or', 'rare', '.']\n",
      "['i', 'do', \"n't\", 'mean', 'med', 'rare', 'or', 'rare', '.']\n",
      "NONE 1\n",
      "['could', 'each', 'much']\n",
      "[1, 3, 4]\n",
      "['i', '<REPLACE>', 'n', \"'\", 't', 'of', 'any', 'of', 'this', '.']\n",
      "['i', 'could', \"n't\", 'each', 'much', 'of', 'any', 'of', 'this', '.']\n"
     ]
    },
    {
     "name": "stderr",
     "output_type": "stream",
     "text": [
      " 32%|███▏      | 56885/177218 [00:01<00:02, 49358.82it/s]"
     ]
    },
    {
     "name": "stdout",
     "output_type": "stream",
     "text": [
      "NONE 1\n",
      "['purchased', '_num_', 'pot', '_num_']\n",
      "[0, 2, 3, 4]\n",
      "['<REPLACE>', '_', 'num', '_', '_', 'num', '_', 'weeks', 'ago', '.']\n",
      "['purchased', '$', '_num_', 'pot', '_num_', 'weeks', 'ago', '.']\n",
      "NONE 0\n",
      "['actual', 'repair', '_num_']\n",
      "[1, 2, 6]\n",
      "['cost', 'around', '$', '_', 'num', '_', ')', '.']\n",
      "['(', 'actual', 'repair', 'cost', 'around', '$', '_num_', ')', '.']\n",
      "NONE 1\n",
      "['do', 'suggest', 'coffee']\n",
      "[0, 2, 3]\n",
      "['<REPLACE>', 'n', \"'\", 't', 'or', 'ignore', 'them', 'or', 'not', 'offer', 'last', 'call', '.']\n",
      "['do', \"n't\", 'suggest', 'coffee', 'or', 'ignore', 'them', 'or', 'not', 'offer', 'last', 'call', '.']\n",
      "NONE 0\n",
      "['_num_', 'resort', 'fee']\n",
      "[1, 2, 3]\n",
      "['_', 'num', '_', 'per', 'night', '.']\n",
      "['$', '_num_', 'resort', 'fee', 'per', 'night', '.']\n",
      "NONE 0\n",
      "['_num_', 'dollar', '_num_', 'alcohol']\n",
      "[1, 2, 6, 8]\n",
      "['_', 'num', '_', 'for', 'dinner', 'for', '_', 'num', '_', 'without', '.']\n",
      "['$', '_num_', 'dollar', 'for', 'dinner', 'for', '_num_', 'without', 'alcohol', '.']\n",
      "NONE 0\n",
      "['_num_', 'spicy', 'octopus']\n",
      "[1, 2, 3]\n",
      "['_', 'num', '_', 'was', 'like', 'chewy', 'rubber', 'and', 'totally', 'inedible', '.']\n",
      "['$', '_num_', 'spicy', 'octopus', 'was', 'like', 'chewy', 'rubber', 'and', 'totally', 'inedible', '.']\n"
     ]
    },
    {
     "name": "stderr",
     "output_type": "stream",
     "text": [
      " 41%|████      | 72083/177218 [00:01<00:02, 49943.12it/s]"
     ]
    },
    {
     "name": "stdout",
     "output_type": "stream",
     "text": [
      "NONE 0\n",
      "['busy', 'nor', 'emergency']\n",
      "[3, 4, 8]\n",
      "['it', 'was', 'n', \"'\", 't', 'was', 'there', 'an', 'or', 'anything', '.']\n",
      "['it', 'was', \"n't\", 'busy', 'nor', 'was', 'there', 'an', 'emergency', 'or', 'anything', '.']\n",
      "NONE 1\n",
      "['do', 'switch']\n",
      "[0, 2]\n",
      "['<REPLACE>', 'n', \"'\", 't']\n",
      "['do', \"n't\", 'switch']\n"
     ]
    },
    {
     "name": "stderr",
     "output_type": "stream",
     "text": [
      " 47%|████▋     | 82495/177218 [00:01<00:01, 51051.10it/s]"
     ]
    },
    {
     "name": "stdout",
     "output_type": "stream",
     "text": [
      "NONE 0\n",
      "['craving', 'ra']\n",
      "[5, 6]\n",
      "['guess', 'next', 'time', 'i', \"'\", 'i', 'will', 'be', 'driving', 'to', 'old', 'town', '.']\n",
      "['guess', 'next', 'time', 'i', \"'m\", 'craving', 'ra', 'i', 'will', 'be', 'driving', 'to', 'old', 'town', '.']\n",
      "NONE 0\n",
      "['_num_', '1/2', 'stars']\n",
      "[1, 2, 3]\n",
      "['_', 'num', '1', '/', '2', ')', '.']\n",
      "['(', '_num_', '1/2', 'stars', ')', '.']\n"
     ]
    },
    {
     "name": "stderr",
     "output_type": "stream",
     "text": [
      " 58%|█████▊    | 103424/177218 [00:02<00:01, 52140.12it/s]"
     ]
    },
    {
     "name": "stdout",
     "output_type": "stream",
     "text": [
      "NONE 0\n",
      "['out', '_num_']\n",
      "[2, 4]\n",
      "['i', \"'\", '_', 'num', '_', 'and', 'i', 'have', 'no', 'gift', '.']\n",
      "['i', \"'m\", 'out', '$', '_num_', 'and', 'i', 'have', 'no', 'gift', '.']\n",
      "NONE 1\n",
      "['do', 'use', 'david']\n",
      "[0, 2, 3]\n",
      "['<REPLACE>', 'n', \"'\", 't', \"'\", 's', 'bridal', '.']\n",
      "['do', \"n't\", 'use', 'david', \"'s\", 'bridal', '.']\n",
      "NONE 1\n",
      "['should', 'take', '_num_', 'min']\n",
      "[1, 3, 4, 5]\n",
      "['it', '<REPLACE>', 'n', \"'\", 't', '_', 'num', '_', 'for', 'pancakes', 'and', 'eggs', '.']\n",
      "['it', 'should', \"n't\", 'take', '_num_', 'min', 'for', 'pancakes', 'and', 'eggs', '.']\n"
     ]
    },
    {
     "name": "stderr",
     "output_type": "stream",
     "text": [
      " 64%|██████▍   | 113957/177218 [00:02<00:01, 52444.40it/s]"
     ]
    },
    {
     "name": "stdout",
     "output_type": "stream",
     "text": [
      "NONE 1\n",
      "['should', 'take', '_num_', 'minutes']\n",
      "[1, 3, 4, 5]\n",
      "['it', '<REPLACE>', 'n', \"'\", 't', '_', 'num', '_', 'to', 'order', 'and', 'pay', 'for', 'one', 'bagel', '.']\n",
      "['it', 'should', \"n't\", 'take', '_num_', 'minutes', 'to', 'order', 'and', 'pay', 'for', 'one', 'bagel', '.']\n",
      "NONE 1\n",
      "['do', 'eat', 'here']\n",
      "[1, 3, 4]\n",
      "['i', '<REPLACE>', 'n', \"'\", 't', 'by', 'choice', ',', 'only', 'by', 'the', 'choice', 'of', 'others', '.']\n",
      "['i', 'do', \"n't\", 'eat', 'here', 'by', 'choice', ',', 'only', 'by', 'the', 'choice', 'of', 'others', '.']\n"
     ]
    },
    {
     "name": "stderr",
     "output_type": "stream",
     "text": [
      " 73%|███████▎  | 129810/177218 [00:02<00:00, 52193.21it/s]"
     ]
    },
    {
     "name": "stdout",
     "output_type": "stream",
     "text": [
      "NONE 0\n",
      "['_num_', 's.', 'valley']\n",
      "[1, 2, 3]\n",
      "['_', 'num', '_', '.', 'view', ',', 'lv', ')', '.']\n",
      "['(', '_num_', 's.', 'valley', 'view', ',', 'lv', ')', '.']\n",
      "NONE 1\n",
      "['ca', 'give', '_num_', 'stars']\n",
      "[0, 2, 3, 4]\n",
      "['<REPLACE>', 'n', \"'\", 't', '_', 'num', '_', '.']\n",
      "['ca', \"n't\", 'give', '_num_', 'stars', '.']\n"
     ]
    },
    {
     "name": "stderr",
     "output_type": "stream",
     "text": [
      " 79%|███████▉  | 140456/177218 [00:02<00:00, 51876.04it/s]"
     ]
    },
    {
     "name": "stdout",
     "output_type": "stream",
     "text": [
      "NONE 1\n",
      "['do', 'recommend', '...']\n",
      "[0, 2, 3]\n",
      "['<REPLACE>', 'n', \"'\", 't', '.', '.', '.', '.']\n",
      "['do', \"n't\", 'recommend', '...', '.']\n",
      "NONE 1\n",
      "['service', 'and/or', 'cranky', 'never']\n",
      "[1, 4, 5, 9]\n",
      "['the', '<REPLACE>', 'was', 'non', '-', 'existent', 'and', '/', 'or', '-', '-', 'i', 'was', 'asked', 'for', 'a', 'refill', '.']\n",
      "['the', 'service', 'was', 'non-existent', 'and/or', 'cranky', '--', 'i', 'was', 'never', 'asked', 'for', 'a', 'refill', '.']\n",
      "NONE 0\n",
      "['_num_', 'years', 'old', \"'ve\"]\n",
      "[2, 3, 4, 8]\n",
      "['i', \"'\", '_', 'num', '_', ',', 'so', 'i', \"'\", 've', 'had', 'my', 'share', 'of', 'them', '.']\n",
      "['i', \"'m\", '_num_', 'years', 'old', ',', 'so', 'i', \"'ve\", 'had', 'my', 'share', 'of', 'them', '.']\n"
     ]
    },
    {
     "name": "stderr",
     "output_type": "stream",
     "text": [
      " 85%|████████▌ | 150961/177218 [00:02<00:00, 52183.58it/s]"
     ]
    },
    {
     "name": "stdout",
     "output_type": "stream",
     "text": [
      "NONE 0\n",
      "['_num_', 'bucks', 'lunch', '_num_']\n",
      "[1, 2, 4, 6]\n",
      "['_', 'num', '_', 'for', 'for', '_', 'num', '_', '.']\n",
      "['$', '_num_', 'bucks', 'for', 'lunch', 'for', '_num_', '.']\n",
      "NONE 1\n",
      "['tea', 'hunger', 'cravings']\n",
      "[1, 4, 5]\n",
      "['for', '<REPLACE>', ',', 'late', '-', 'night', ',', 'dinner', ',', 'lunch', ',', 'dessert', '.']\n",
      "['for', 'tea', ',', 'late-night', 'hunger', 'cravings', ',', 'dinner', ',', 'lunch', ',', 'dessert', '.']\n"
     ]
    },
    {
     "name": "stderr",
     "output_type": "stream",
     "text": [
      " 94%|█████████▍| 166854/177218 [00:03<00:00, 52768.83it/s]"
     ]
    },
    {
     "name": "stdout",
     "output_type": "stream",
     "text": [
      "NONE 1\n",
      "['did', 'taste', 'horrible', '...']\n",
      "[1, 3, 4, 5]\n",
      "['they', '<REPLACE>', 'n', \"'\", 't', '.', '.', '.', 'but', 'you', 'could', 'n', \"'\", 't', 'dip', 'them', 'into', 'anything', '.']\n",
      "['they', 'did', \"n't\", 'taste', 'horrible', '...', 'but', 'you', 'could', \"n't\", 'dip', 'them', 'into', 'anything', '.']\n",
      "NONE 1\n",
      "['do', 'waste', '_num_', 'months']\n",
      "[0, 2, 3, 4]\n",
      "['<REPLACE>', 'n', \"'\", 't', '_', 'num', '_', 'waiting', 'on', 'broken', 'promises', 'and', 'hard', 'luck', 'stories', '.']\n",
      "['do', \"n't\", 'waste', '_num_', 'months', 'waiting', 'on', 'broken', 'promises', 'and', 'hard', 'luck', 'stories', '.']\n",
      "NONE 0\n",
      "['_num_', 'gold', 'club']\n",
      "[1, 2, 3]\n",
      "['_', 'num', '_', 'member', 'with', 'a', 'reservation', '?']\n",
      "['#', '_num_', 'gold', 'club', 'member', 'with', 'a', 'reservation', '?']\n"
     ]
    },
    {
     "name": "stderr",
     "output_type": "stream",
     "text": [
      "100%|██████████| 177218/177218 [00:03<00:00, 51339.26it/s]\n"
     ]
    },
    {
     "name": "stdout",
     "output_type": "stream",
     "text": [
      "NONE 0\n",
      "['_num_', 'n.', '_num_', 'rd']\n",
      "[1, 2, 3, 4]\n",
      "['_', 'num', '_', '.', '_', 'num', '_', '.']\n",
      "['@', '_num_', 'n.', '_num_', 'rd', '.']\n",
      "NONE 3\n",
      "['discovered', 'pads', '_num_', 'x', '_num_']\n",
      "[4, 6, 8, 10, 11]\n",
      "['that', \"'\", 's', 'where', 'i', '<REPLACE>', 'the', '<REPLACE>', 'were', '<REPLACE>', '_', 'num', '_', \"'\", \"'\", '_', 'num', '_', \"'\", \"'\", '.']\n",
      "['that', \"'s\", 'where', 'i', 'discovered', 'the', 'pads', 'were', '_num_', \"''\", 'x', '_num_', \"''\", '.']\n"
     ]
    }
   ],
   "source": [
    "process_file_v1(data_dir+\"/processed_files_with_bert_with_best_head/sentiment_train.txt\",data_dir+\"/processed_files_with_bert_with_best_head/delete_retrieve_edit_model/sentiment_train.txt\")\n",
    "process_file_v1(data_dir+\"/processed_files_with_bert_with_best_head/sentiment_train_1.txt\",data_dir+\"/processed_files_with_bert_with_best_head/delete_retrieve_edit_model/sentiment_train_1.txt\")\n",
    "process_file_v1(data_dir+\"/processed_files_with_bert_with_best_head/sentiment_train_0.txt\",data_dir+\"/processed_files_with_bert_with_best_head/delete_retrieve_edit_model/sentiment_train_0.txt\")"
   ]
  },
  {
   "cell_type": "code",
   "execution_count": 158,
   "metadata": {},
   "outputs": [
    {
     "name": "stderr",
     "output_type": "stream",
     "text": [
      "100%|██████████| 1000/1000 [00:00<00:00, 56367.48it/s]\n",
      "100%|██████████| 500/500 [00:00<00:00, 71094.72it/s]\n",
      "100%|██████████| 500/500 [00:00<00:00, 66485.50it/s]\n"
     ]
    }
   ],
   "source": [
    "# Test changes here first\n",
    "process_file_v1(data_dir+\"/processed_files_with_bert_with_best_head/sentiment_test.txt\",data_dir+\"/processed_files_with_bert_with_best_head/delete_retrieve_edit_model/sentiment_test.txt\")\n",
    "process_file_v1(data_dir+\"/processed_files_with_bert_with_best_head/sentiment_test_1.txt\",data_dir+\"/processed_files_with_bert_with_best_head/delete_retrieve_edit_model/sentiment_test_1.txt\")\n",
    "process_file_v1(data_dir+\"/processed_files_with_bert_with_best_head/sentiment_test_0.txt\",data_dir+\"/processed_files_with_bert_with_best_head/delete_retrieve_edit_model/sentiment_test_0.txt\")"
   ]
  },
  {
   "cell_type": "code",
   "execution_count": 217,
   "metadata": {},
   "outputs": [
    {
     "name": "stderr",
     "output_type": "stream",
     "text": [
      "100%|██████████| 4000/4000 [00:00<00:00, 44698.12it/s]\n"
     ]
    },
    {
     "name": "stdout",
     "output_type": "stream",
     "text": [
      "NONE 0\n",
      "['_num_', 'wi-fi', 'charge']\n",
      "[1, 2, 3]\n",
      "['_', 'num', '_', '-', 'fi', '.']\n",
      "['$', '_num_', 'wi-fi', 'charge', '.']\n"
     ]
    },
    {
     "name": "stderr",
     "output_type": "stream",
     "text": [
      "100%|██████████| 2000/2000 [00:00<00:00, 43963.84it/s]\n"
     ]
    },
    {
     "name": "stdout",
     "output_type": "stream",
     "text": [
      "NONE 0\n",
      "['_num_', 'wi-fi', 'charge']\n",
      "[1, 2, 3]\n",
      "['_', 'num', '_', '-', 'fi', '.']\n",
      "['$', '_num_', 'wi-fi', 'charge', '.']\n"
     ]
    },
    {
     "name": "stderr",
     "output_type": "stream",
     "text": [
      "100%|██████████| 2000/2000 [00:00<00:00, 45756.63it/s]\n"
     ]
    }
   ],
   "source": [
    "process_file_v1(data_dir+\"/processed_files_with_bert_with_best_head/sentiment_dev.txt\",data_dir+\"/processed_files_with_bert_with_best_head/delete_retrieve_edit_model/sentiment_dev.txt\", test=True)\n",
    "process_file_v1(data_dir+\"/processed_files_with_bert_with_best_head/sentiment_dev_0.txt\",data_dir+\"/processed_files_with_bert_with_best_head/delete_retrieve_edit_model/sentiment_dev_1.txt\", test=True)\n",
    "process_file_v1(data_dir+\"/processed_files_with_bert_with_best_head/sentiment_dev_1.txt\",data_dir+\"/processed_files_with_bert_with_best_head/delete_retrieve_edit_model/sentiment_dev_0.txt\", test=True)"
   ]
  }
 ],
 "metadata": {
  "kernelspec": {
   "display_name": "Python 3.8.13 ('cleantransfer')",
   "language": "python",
   "name": "python3"
  },
  "language_info": {
   "codemirror_mode": {
    "name": "ipython",
    "version": 3
   },
   "file_extension": ".py",
   "mimetype": "text/x-python",
   "name": "python",
   "nbconvert_exporter": "python",
   "pygments_lexer": "ipython3",
   "version": "3.8.13"
  },
  "vscode": {
   "interpreter": {
    "hash": "1262644d422a82105623d802af89e6e9ed007275a479308d900e7081e9b63df8"
   }
  }
 },
 "nbformat": 4,
 "nbformat_minor": 2
}
